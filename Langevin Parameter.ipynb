{
 "cells": [
  {
   "cell_type": "markdown",
   "metadata": {},
   "source": [
    "In the long-time limit, the expectation value of the velocity squared of a particle described by the Langevin equation is given by \n",
    "\\begin{equation}\n",
    "\\langle v^2(t\\rightarrow \\infty)\\rangle = \\frac{q}{2\\gamma m} = \\frac{k_B T}{m}\n",
    "\\end{equation},\n",
    "suggesting that\n",
    "\\begin{equation}\n",
    "q = 2 k_B T \\gamma.\n",
    "\\end{equation}\n",
    "We take $q = 1$ in atomic units.\n",
    "We also initialize the velocities according to a distribution that derives from the momentum\n",
    "uncertainity of the ground-state harmonic oscillator subject to the ground-state PES\n",
    "with $k =  0.312468$ and $M = 1009883$ atomic units; this velocity uncertainty of\n",
    "2.3026245670253878e-05 atomic units implies that $\\langle v^2 \\rangle = 5.302079896668855e-10$\n",
    "atomic units.  Equating this expectation value with $\\frac{1}{2\\gamma m}$ yields the following\n",
    "value for gamma\n"
   ]
  },
  {
   "cell_type": "code",
   "execution_count": 71,
   "metadata": {},
   "outputs": [
    {
     "name": "stdout",
     "output_type": "stream",
     "text": [
      "T is  0.0009500434714558047 atomic units\n",
      "kb is 1.000014161512253 atomic units\n",
      "gamma1 is  933.797431503099\n",
      "gamma2 is  526.2917066666666\n",
      "kb T / M 9.407460779672543e-10\n",
      "1.3591409142295225\n",
      "0.2310490601866484\n",
      "124028.44385645774\n",
      "0.5055269138001204\n"
     ]
    }
   ],
   "source": [
    "import numpy as np\n",
    "v2 = 5.302079896668855e-10\n",
    "M = 1009883\n",
    "gamma = 1/(M * v2 * 2)\n",
    "K_to_au = 1/(315775.024)\n",
    "T = 300 * K_to_au\n",
    "print(\"T is \",T, \"atomic units\")\n",
    "kb_evK = 8.617333e-5\n",
    "ev_to_au = 1/27.211\n",
    "kb_au = kb_evK * ev_to_au/(K_to_au)\n",
    "print(\"kb is\",kb_au, \"atomic units\")\n",
    "print(\"gamma1 is \",gamma)\n",
    "gamma = 1/(2*T)\n",
    "print(\"gamma2 is \",gamma)\n",
    "print(\"kb T / M\",T/M)\n",
    "\n",
    "t_scale = 2.4188e-17 * 1e12\n",
    "gam = 0.00001\n",
    "print(np.exp(np.log(np.e/2)))\n",
    "gam = np.log(2)/(t_scale * 3)\n",
    "print(gam * t_scale)\n",
    "\n",
    "print(3/t_scale)\n",
    "print(np.exp(-0.000011*124028/2))"
   ]
  },
  {
   "cell_type": "code",
   "execution_count": null,
   "metadata": {},
   "outputs": [],
   "source": [
    "\n",
    "\n"
   ]
  }
 ],
 "metadata": {
  "kernelspec": {
   "display_name": "Python 3",
   "language": "python",
   "name": "python3"
  },
  "language_info": {
   "codemirror_mode": {
    "name": "ipython",
    "version": 3
   },
   "file_extension": ".py",
   "mimetype": "text/x-python",
   "name": "python",
   "nbconvert_exporter": "python",
   "pygments_lexer": "ipython3",
   "version": "3.7.3"
  }
 },
 "nbformat": 4,
 "nbformat_minor": 2
}
