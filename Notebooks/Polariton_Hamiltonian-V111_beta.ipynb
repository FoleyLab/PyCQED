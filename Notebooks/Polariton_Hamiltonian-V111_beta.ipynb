{
 "cells": [
  {
   "cell_type": "markdown",
   "metadata": {},
   "source": [
    "Following Mandal and Huo in their J. Phys. Chem. Lett. paper [here](https://pubs.acs.org/doi/abs/10.1021/acs.jpclett.9b01599), we will define the polariton Hamiltonian as follows:\n",
    "\n",
    "\\begin{equation}\n",
    "\\hat{H}_{pl} = \\hat{H}_{el} + \\hat{H}_p + \\hat{H}_{el,p}\n",
    "\\end{equation}\n",
    "\n",
    "where $\\hat{H}_e$ denotes the electronic Hamiltonian:\n",
    "\\begin{equation}\n",
    "\\hat{H}_{el} = E_g(R) \\: \\hat{a}^{\\dagger}_g \\hat{a}_g + E_e(R) \\: \\hat{a}^{\\dagger}_e \\hat{a}_e,\n",
    "\\end{equation}\n",
    "where $E_g(R)$ ($E_e(R)$) denotes the ground- (excited-) state electronic energy at nuclear coordinate $R$, and\n",
    "$\\hat{a}^{\\dagger}_p$ ($\\hat{a}_p$) are the creation (annihilation) operators for electronic state $p$.\n",
    "The following matrix elements are equal to 1 using these operators and the basis states spanning $|g\\rangle , |e\\rangle$.\n",
    "\\begin{align}\n",
    "\\langle g | \\hat{a}^{\\dagger}_g \\hat{a}_g | g \\rangle = 1 \\\\\n",
    "\\langle e | \\hat{a}^{\\dagger}_e \\hat{a}_e | e \\rangle = 1 \\\\\n",
    "\\langle g | \\hat{a}^{\\dagger}_g \\hat{a}_e | e \\rangle = 1 \\\\\n",
    "\\langle e | \\hat{a}^{\\dagger}_e \\hat{a}_g | g \\rangle = 1; \n",
    "\\end{align}\n",
    "all other are zero.\n",
    "\n",
    "\n",
    "The photon Hamiltonian is \n",
    "\\begin{equation}\n",
    "\\hat{H}_p = \\hbar \\omega_c \\left(\\hat{b}^{\\dagger} \\hat{b} + \\frac{1}{2}  \\right),\n",
    "\\end{equation}\n",
    "where $\\hat{b}^{\\dagger}$ and $\\hat{b}$ denote the raising/lowering operators for the photon states, respectively.\n",
    "The raising operator has the general effect on the basis states $|n\\rangle$,\n",
    "\\begin{equation}\n",
    "\\hat{b}^{\\dagger} |n\\rangle = \\sqrt{n+1} |n+1\\rangle,\n",
    "\\end{equation}\n",
    "while the lowering operator has the general effect\n",
    "\\begin{equation}\n",
    "\\hat{b} |n\\rangle = \\sqrt{n} |n-1\\rangle;\n",
    "\\end{equation}\n",
    "importantly, $\\hat{b} |0\\rangle  = 0$.  Both the photon and the electronic basis states form an orthonormal \n",
    "set, such that\n",
    "\\begin{equation}\n",
    "\\langle i | j \\rangle = \\delta_{ij}.\n",
    "\\end{equation}\n",
    "\n",
    "Following Eq. S2 from Mandal and Huo, we compute $E_g(R)$ and $E_e(R)$ using the following code (see S2 in [this document](https://pubs.acs.org/doi/suppl/10.1021/acs.jpclett.9b01599/suppl_file/jz9b01599_si_001.pdf) for explicit equations):"
   ]
  },
  {
   "cell_type": "code",
   "execution_count": 18,
   "metadata": {},
   "outputs": [],
   "source": [
    "import numpy as np\n",
    "from numpy import linalg as LA\n",
    "import math\n",
    "from matplotlib import pyplot as plt\n",
    "\n",
    "### Function to return the ground and excited-state electronic energy as a function of\n",
    "### the nuclear coordinate $R$\n",
    "def E_of_R(R):\n",
    "    Ai = np.array([0.049244, 0.010657, 0.428129, 0.373005])\n",
    "    Bi = np.array([0.18, 0.18, 0.18, 0.147])\n",
    "    Ri = np.array([-0.75, 0.85, -1.15, 1.25])\n",
    "    Di = np.array([0.073, 0.514])\n",
    "    \n",
    "    v = Ai + Bi*(R - Ri)**2\n",
    "    \n",
    "    Eg = 0.5*(v[0] + v[1]) - np.sqrt(Di[0]**2 + 0.25 * (v[0] - v[1])**2)\n",
    "    Ee = 0.5*(v[2] + v[3]) - np.sqrt(Di[1]**2 + 0.25 * (v[2] - v[3])**2)\n",
    "    return [Eg, Ee]\n",
    "    "
   ]
  },
  {
   "cell_type": "code",
   "execution_count": 19,
   "metadata": {},
   "outputs": [
    {
     "data": {
      "image/png": "[encoded data removed]",
      "text/plain": [
       "<Figure size 432x288 with 1 Axes>"
      ]
     },
     "metadata": {
      "needs_background": "light"
     },
     "output_type": "display_data"
    }
   ],
   "source": [
    "### Code to run E_of_R function for a variety of values of R between -1.5 and 1.5 atomic units\n",
    "### and plot the energy in electron volts for the ground- and excited-state surface, \n",
    "### giving the plot from Figure 2 of Mandal and Huo's paper\n",
    "rlist = np.linspace(-2.0, 2.0, 1000)\n",
    "\n",
    "E_ground = []\n",
    "E_excite = []\n",
    "for r in rlist:\n",
    "    PES = E_of_R(r)\n",
    "    E_ground.append(PES[0])\n",
    "    E_excite.append(PES[1])\n",
    "    \n",
    "plt.plot(rlist, E_ground, 'r*', label='|g>')\n",
    "plt.plot(rlist, E_excite, 'b*', label='|e>')\n",
    "plt.xlabel(\"R (a.u.)\")\n",
    "plt.ylabel(\"E (eV)\")\n",
    "plt.legend()\n",
    "plt.show()"
   ]
  },
  {
   "cell_type": "markdown",
   "metadata": {},
   "source": [
    "The contribution from photons and photon-molecule interactions can give rise to polaritonic dynamics.  The interaction Hamiltonian has the form\n",
    "\\begin{equation}\n",
    "\\hat{H}_{el,p} = \\hbar g_c \\left(\\hat{b}^{\\dagger} + \\hat{b}\\right)\n",
    "\\left(\\hat{a}^{\\dagger}_e \\hat{a}_g + \\hat{a}^{\\dagger}_g \\hat{a}_e \\right).\n",
    "\\end{equation}\n",
    "Considering the following four basis states: $|g\\rangle |0\\rangle, |g\\rangle |1\\rangle, \n",
    "|e\\rangle |0\\rangle, |e\\rangle |1\\rangle$, we can identify the following contributions to the total Hamiltonian matrix:\n",
    "\n",
    "\\begin{equation}\n",
    "{\\bf H}_{el}\n",
    "  \\mbox{=}\n",
    "  \\begin{pmatrix}\n",
    "    E_g(R)   &     0   & 0 & 0 \\\\\n",
    "    0        &   E_g(R) & 0 & \\\\\n",
    "    0        &    0  & E_e(R) & 0 \\\\\n",
    "    0        &    0   &  0  & E_e(R) \n",
    "  \\end{pmatrix}\n",
    "\\end{equation}\n",
    "\n",
    "\\begin{equation}\n",
    "{\\bf H}_{p}\n",
    "  \\mbox{=}\n",
    "  \\begin{pmatrix}\n",
    "    \\frac{1}{2} \\hbar \\omega_c  &     0 &     0 &     0   \\\\\n",
    "    0        &     \\frac{3}{2} \\hbar \\omega_c &     0 &     0  \\\\\n",
    "    0        &       0  & \\frac{1}{2} \\hbar \\omega_c  & 0 \\\\\n",
    "    0        &     0    &     0  &     \\frac{3}{2} \\hbar \\omega_c \n",
    "  \\end{pmatrix}\n",
    "\\end{equation}\n",
    "\n",
    "\\begin{equation}\n",
    "{\\bf H}_{el,p}\n",
    "  \\mbox{=}\n",
    "  \\begin{pmatrix}\n",
    "    0   &     0  & 0 & 0 \\\\\n",
    "    0   &     0  & \\hbar g_c & 0  \\\\\n",
    "    0   & \\hbar g_c   &    0  &  0 \\\\\n",
    "    0   &     0  & 0 & 0\n",
    "  \\end{pmatrix}\n",
    "\\end{equation}\n",
    "so that the total Hamiltonian has the form\n",
    "\n",
    "\n",
    "\\begin{equation}\n",
    "{\\bf H}_{Tot}\n",
    "  \\mbox{=}\n",
    "  \\begin{pmatrix}\n",
    "  E_g(R) + \\frac{1}{2} \\hbar \\omega_c   &     0  & 0 & 0 \\\\\n",
    "    0        & E_g(R) + \\frac{3}{2} \\hbar \\omega_c  &     \\hbar g_c & 0  \\\\\n",
    "    0 & \\hbar g_c        &    E_e(R) + \\frac{1}{2} \\hbar \\omega_c & 0 \\\\\n",
    "    0   &     0  & 0 & E_e(R) + \\frac{3}{2} \\hbar \\omega_c\n",
    "  \\end{pmatrix}.\n",
    "\\end{equation}\n",
    "\n",
    "Consider the case where $\\hbar \\omega_c = 2.18 \\: eV$ and $\\hbar g_c = 0.136 \\: eV$; *express these quantities in atomic units!*\n",
    "\n",
    "The new *polaritonic* potential energy surfaces can be identified by building ${\\bf H}_{Tot}$ at differnt values of $R$, diagonalizing the matrix, and identifying the eigenvalues.  We will denote the lowest eigenvalue as a function of $R$ as the lower polariton surface and the largest eigenvalue as a function of $R$ as the upper polariton surface.\n"
   ]
  },
  {
   "cell_type": "code",
   "execution_count": 20,
   "metadata": {},
   "outputs": [],
   "source": [
    "### Forms the electronic Hamiltonian matrix at a given value of the nuclear coordinate\n",
    "### FOR 4x4 case relevant for 1-mode polariton case\n",
    "def H_e(Hmat, R):\n",
    "    PES = E_of_R(R)\n",
    "    Hmat[0,0] = PES[0]\n",
    "    Hmat[1,1] = PES[0]\n",
    "    Hmat[2,2] = PES[1]\n",
    "    Hmat[3,3] = PES[1]\n",
    "    return Hmat\n",
    "\n",
    "### Form bare photon hamiltonian with frequency omega c for 4x4 case \n",
    "### relevant for 1-mode polariton case\n",
    "def H_p(Hmat, omega):\n",
    "    Hmat[0,0] = 0.5 * omega\n",
    "    Hmat[1,1] = 1.5 * omega\n",
    "    Hmat[2,2] = 0.5 * omega\n",
    "    Hmat[3,3] = 1.5 * omega\n",
    "    return Hmat\n",
    "\n",
    "### form coupling hamiltonian with coupling strength gamma_c for 4x4 \n",
    "### case relevant for 1-mode polariton case\n",
    "def H_ep(Hmat, g):\n",
    "    Hmat[1,2] = g\n",
    "    Hmat[2,1] = g\n",
    "    return Hmat\n",
    "\n"
   ]
  },
  {
   "cell_type": "markdown",
   "metadata": {},
   "source": [
    "Note for Figen:  In the following block, we compute the energies of each surface by building ${\\bf H}_{Tot}$ at different values of $R$, diagonalizing ${\\bf H}_{Tot}$, and plotting the eigenvalues at each value \n",
    "of $R$.  To \"color-code\" the curves by their contribution, we also need to consider the eigenvectors.\n",
    "In particular, you want the contribution from state $|g,1\\rangle$ to each of the surfaces to\n",
    "plot its photonic character.\n",
    "\n",
    "**Second Note for Figen:** Please vary the values of omc and gc among the following combinations and make a plot of the results by running the following two cells after modifying the values among all unique combinations of\n",
    "omc = 1.5/27.211, 2.0/27.211, 2.5/27.211, 3.0/27.211, 3.5/27.211\n",
    "gc  = 0.01/27.211, 0.03/27.211, 0.05/27.211, 0.07/27.211, 0.09/27.211\n",
    "(should be 25 combinations in total, so 25 plots).\n",
    "Please also change the filename string such that it indicates the combination... for example, for the plot using\n",
    "omc = 2.0/27.211 and gc = 0.07/27.211, change the filename string to\n",
    "\n",
    "`filename = \"Plot_omc_2.0_gc_0.07.eps\"`\n",
    "\n",
    "Note that the plot using omc = 2.45/27.211 and gc = 0.03/27.211 has already been made and pushed to the repository."
   ]
  },
  {
   "cell_type": "code",
   "execution_count": 21,
   "metadata": {},
   "outputs": [],
   "source": [
    "import numpy as np \n",
    "from scipy.interpolate import InterpolatedUnivariateSpline\n",
    "from numpy import linalg as LA\n",
    "from matplotlib import cm\n",
    "from matplotlib import rcParams\n",
    "rcParams['font.family'] = 'serif'\n",
    "rcParams['font.size'] = 12\n",
    "ci = 0+1j\n",
    "### hbar omega_c in atomic units... we can permit this frequency to be complex\n",
    "### to account for finite-lifetime of the mode, but let's ignore the imaginary part for now\n",
    "omc = 2.6/27.211 + 0/27.211*ci\n",
    "### hbar g_c in atomic units\n",
    "gc = 0.03/27.211\n",
    "\n",
    "filename = \"Plot_omc_2.6_gc_0.03.eps\"\n",
    "\n",
    "### form empty arrays for lower and upper polariton surface\n",
    "PPES = np.zeros((len(rlist),4))\n",
    "PES_p= np.zeros((len(rlist),4))\n",
    "#UP_p = np.zeros(len(rlist))\n",
    "cvecs = np.zeros(len(rlist),dtype=complex)\n",
    "\n",
    "### Htot\n",
    "He = np.zeros((4,4),dtype=complex)\n",
    "Hp = np.zeros((4,4),dtype=complex)\n",
    "Hep = np.zeros((4,4),dtype=complex)\n",
    "Htot = np.zeros((4,4),dtype=complex)"
   ]
  },
  {
   "cell_type": "code",
   "execution_count": 22,
   "metadata": {},
   "outputs": [
    {
     "data": {
      "image/png": "[encoded data removed]",
      "text/plain": [
       "<Figure size 432x288 with 2 Axes>"
      ]
     },
     "metadata": {
      "needs_background": "light"
     },
     "output_type": "display_data"
    }
   ],
   "source": [
    "\n",
    "\n",
    "\n",
    "Hp = H_p(Hp, omc)\n",
    "Hep = H_ep(Hep, gc)\n",
    "\n",
    "\n",
    "for i in range(0,len(rlist)): ##len(rlist)):\n",
    "    r = rlist[i]\n",
    "    He = H_e(He, r)\n",
    "    Htot = He + Hp + Hep\n",
    "    tmpH = np.copy(Htot)\n",
    "    ### Diagonalize here and store eigenvalues to vals, and eigenvectors to vecs\n",
    "    vals, vecs = LA.eig(Htot)\n",
    "    idx = vals.argsort()[::1]\n",
    "    vals = vals[idx]\n",
    "    vecs = vecs[:,idx]\n",
    "    cvecs =np.conjugate(vecs)\n",
    "    #print(vals)\n",
    "    #print(vecs)\n",
    "    #print(r)\n",
    "    ### JJF Note: I don't think the np.sum is necessary; though it doesn't lead to the wrong answer, I just\n",
    "    ### don't think it is necessary\n",
    "    ### Also cvecs * vecs will be pure real, but the data type is \n",
    "    ### still complex (just with 0 imaginary component) so we take only\n",
    "    ### the real part here to avoid warnings when we plot.\n",
    "    PES_p[i,1] = np.real(cvecs[1,1] * vecs[1,1])\n",
    "    PES_p[i,2] = np.real(cvecs[2,1] * vecs[2,1])\n",
    "     \n",
    "    \n",
    "    ### Now vecs are ordered such that vecs[0,:] gives the ground-state\n",
    "    ### vector, vecs[1,:] gives the first excited-state vector, etc\n",
    "    ### and vecs[2,1] gives the coefficient of state |g>|1> that\n",
    "    ### contributes to the second-excited state\n",
    "    for j in range(0,4):\n",
    "        PPES[i,j] = np.real(vals[j])\n",
    "    \n",
    "fig, ax = plt.subplots()\n",
    "cm = plt.cm.get_cmap('rainbow')\n",
    "im = ax.scatter(rlist, 27.211*PPES[:,2], c=PES_p[:,2], cmap=cm, s=4) # rlist, 27.211*PPES[:,1], c=LP_p, cmap=cm )\n",
    "im = ax.scatter(rlist, 27.211*PPES[:,1], c=PES_p[:,1], cmap=cm, s=4)\n",
    "cbar = fig.colorbar(im, ticks=[0.1, 0.5, 0.9])\n",
    "cbar.ax.set_yticklabels(['excitonic', 'polaritonic', 'photonic'])\n",
    "plt.xlim(-1.,1.)\n",
    "plt.ylim(3.5,6.)\n",
    "plt.xlabel(\"R (a.u.)\")\n",
    "plt.ylabel(\"Energy (eV)\")\n",
    "#plt.savefig(filename)\n",
    "plt.show()\n",
    "\n"
   ]
  },
  {
   "cell_type": "markdown",
   "metadata": {},
   "source": [
    "**FIGEN NOTE:**  The code below uses the new *polaritonic* class, but the main concept is still the same. \n",
    "You can build the Hamiltonian at a variety of different values of $R$, then diagonalize the Hamiltonian, and then\n",
    "get the energies that define the surface from the eigenvalues (stored in vals) and the photon contributions from the eigenvectors (stored in vecs).  The main difference now is that there are multiple states that have *photonic* contribution, state |g01> (stored in vecs[1,:]) state |g10> (stored in vecs[2,:]) and state |g11> (stored in vecs[3,:]), so unlike before where you just get conj(vecs[1,i])*vecs[1,i] for the photonic contribution to polartion surface $i$, you will take conj(vecs[1,i])*vecs[1,i] + conj(vecs[2,i])*vecs[2,i] + conj(vecs[3,i])*vecs[3,i]"
   ]
  },
  {
   "cell_type": "code",
   "execution_count": 40,
   "metadata": {},
   "outputs": [
    {
     "name": "stdout",
     "output_type": "stream",
     "text": [
      "[[0. 0. 0.]\n",
      " [0. 0. 1.]\n",
      " [0. 1. 0.]\n",
      " [0. 1. 1.]\n",
      " [1. 0. 0.]\n",
      " [1. 0. 1.]\n",
      " [1. 1. 0.]\n",
      " [1. 1. 1.]]\n"
     ]
    },
    {
     "data": {
      "text/plain": [
       "\"\\nplt.plot(r_list, PES_E[:,0], label='phi0')\\nplt.plot(r_list, PES_E[:,1], label='phi1')\\nplt.plot(r_list, PES_E[:,2], label='phi2')\\nplt.plot(r_list, PES_E[:,3], label='phi3')\\nplt.plot(r_list, PES_E[:,4], label='phi4')\\nplt.plot(r_list, PES_E[:,5], label='phi5')\\nplt.plot(r_list, PES_E[:,6], label='phi6')\\nplt.plot(r_list, PES_E[:,7], label='phi7')\\n#plt.ylim(0,1.6)\\n#plt.legend()\\nplt.show()\\n\""
      ]
     },
     "execution_count": 40,
     "metadata": {},
     "output_type": "execute_result"
    },
    {
     "data": {
      "image/png": "[encoded data removed]",
      "text/plain": [
       "<Figure size 432x288 with 2 Axes>"
      ]
     },
     "metadata": {
      "needs_background": "light"
     },
     "output_type": "display_data"
    }
   ],
   "source": [
    "from polaritonic import polaritonic\n",
    "\n",
    "\n",
    "options = {\n",
    "        'Number_of_Photons': 2,\n",
    "        'Photon_Energys': [1.80/27.211, 2.80/27.211],\n",
    "        'Coupling_Strengths': [0.05/27.211, 0.05/27.211], \n",
    "        'Initial_Position': -0.678,\n",
    "        'Initial_Velocity': -3.00e-5\n",
    "        \n",
    "        }\n",
    "\n",
    "### Build basis and Hamiltonian matrices according to the above options\n",
    "polt = polaritonic(options)\n",
    "print(polt.local_basis)\n",
    "\n",
    "### create a list of r values\n",
    "n_r_vals = 500\n",
    "r_list = np.linspace(-2,2,n_r_vals)\n",
    "### New array to store energy values for the different surfaces\n",
    "PES_E = np.zeros((n_r_vals, polt.N_basis_states))\n",
    "### New array to store the photonic contributions from the different surfaces\n",
    "PES_P = np.zeros((n_r_vals, polt.N_basis_states))\n",
    "\n",
    "for i in range(0,len(r_list)):\n",
    "    ### change R attribute to current value of r in r_list\n",
    "    polt.R = r_list[i]\n",
    "    ### build electronic Hamiltonian for this particular value of R\n",
    "    polt.H_e()\n",
    "    ### now that electronic Hamiltonian is updated, build new total Hamiltonian\n",
    "    polt.H_total = np.copy(polt.H_electronic + polt.H_photonic + polt.H_interaction)\n",
    "    ### store H_total in a temporary array\n",
    "    tmpH = np.copy(polt.H_total)\n",
    "    ### Diagonalize here and store eigenvalues to vals, and eigenvectors to vecs\n",
    "    vals, vecs = LA.eig(tmpH)\n",
    "    idx = vals.argsort()[::1]\n",
    "    vals = vals[idx]\n",
    "    vecs = vecs[:,idx]\n",
    "    cvecs =np.conjugate(vecs)\n",
    "    \n",
    "    for j in range(0,polt.N_basis_states):\n",
    "        PES_E[i,j] = np.real(vals[j])\n",
    "        PES_P[i,j] = np.real(cvecs[1,j-1]*vecs[1,j-1])+np.real(cvecs[2,j-1]*vecs[2,j-1])+2*np.real(cvecs[3,j-1]*vecs[3,j-1])+np.real(cvecs[4,j-1]*vecs[4,j-1])+np.real(cvecs[5,j-1]*vecs[5,j-1])+2*np.real(cvecs[6,j-1]*vecs[6,j-1])\n",
    "        \n",
    "        \n",
    "    \n",
    "fig, ax = plt.subplots()\n",
    "cm = plt.cm.get_cmap('rainbow')\n",
    "im = ax.scatter(r_list, 27.211*PES_E[:,2], c=PES_P[:,2], cmap=cm, s=4) # rlist, 27.211*PPES[:,1], c=LP_p, cmap=cm )\n",
    "im = ax.scatter(r_list, 27.211*PES_E[:,1], c=PES_P[:,1], cmap=cm, s=4)\n",
    "cbar = fig.colorbar(im, ticks=[0.1, 0.5, 0.9])\n",
    "cbar.ax.set_yticklabels(['excitonic', 'polaritonic', 'photonic'])\n",
    "plt.xlim(-1.,1.)\n",
    "plt.ylim(3.5,8.)\n",
    "plt.xlabel(\"R (a.u.)\")\n",
    "plt.ylabel(\"Energy (eV)\")\n",
    "\n",
    "'''\n",
    "plt.plot(r_list, PES_E[:,0], label='phi0')\n",
    "plt.plot(r_list, PES_E[:,1], label='phi1')\n",
    "plt.plot(r_list, PES_E[:,2], label='phi2')\n",
    "plt.plot(r_list, PES_E[:,3], label='phi3')\n",
    "plt.plot(r_list, PES_E[:,4], label='phi4')\n",
    "plt.plot(r_list, PES_E[:,5], label='phi5')\n",
    "plt.plot(r_list, PES_E[:,6], label='phi6')\n",
    "plt.plot(r_list, PES_E[:,7], label='phi7')\n",
    "#plt.ylim(0,1.6)\n",
    "#plt.legend()\n",
    "plt.show()\n",
    "'''\n",
    "    \n",
    "    \n",
    "    \n",
    "\n",
    "\n"
   ]
  },
  {
   "cell_type": "code",
   "execution_count": 30,
   "metadata": {},
   "outputs": [
    {
     "data": {
      "text/plain": [
       "500"
      ]
     },
     "execution_count": 30,
     "metadata": {},
     "output_type": "execute_result"
    }
   ],
   "source": [
    "len(r_list)"
   ]
  },
  {
   "cell_type": "code",
   "execution_count": 31,
   "metadata": {},
   "outputs": [
    {
     "data": {
      "text/plain": [
       "(500, 8)"
      ]
     },
     "execution_count": 31,
     "metadata": {},
     "output_type": "execute_result"
    }
   ],
   "source": [
    "PES_E.shape"
   ]
  },
  {
   "cell_type": "code",
   "execution_count": 32,
   "metadata": {},
   "outputs": [
    {
     "data": {
      "text/plain": [
       "(500,)"
      ]
     },
     "execution_count": 32,
     "metadata": {},
     "output_type": "execute_result"
    }
   ],
   "source": [
    "r_list.shape\n"
   ]
  },
  {
   "cell_type": "code",
   "execution_count": 33,
   "metadata": {},
   "outputs": [
    {
     "data": {
      "text/plain": [
       "(500,)"
      ]
     },
     "execution_count": 33,
     "metadata": {},
     "output_type": "execute_result"
    }
   ],
   "source": [
    "PES_E[:,1].shape"
   ]
  },
  {
   "cell_type": "code",
   "execution_count": 34,
   "metadata": {},
   "outputs": [
    {
     "data": {
      "text/plain": [
       "(500,)"
      ]
     },
     "execution_count": 34,
     "metadata": {},
     "output_type": "execute_result"
    }
   ],
   "source": [
    "PES_P[:,2].shape"
   ]
  },
  {
   "cell_type": "code",
   "execution_count": 35,
   "metadata": {},
   "outputs": [
    {
     "data": {
      "text/plain": [
       "(500,)"
      ]
     },
     "execution_count": 35,
     "metadata": {},
     "output_type": "execute_result"
    }
   ],
   "source": [
    "PES_E[:,2].shape"
   ]
  },
  {
   "cell_type": "code",
   "execution_count": null,
   "metadata": {},
   "outputs": [],
   "source": []
  }
 ],
 "metadata": {
  "kernelspec": {
   "display_name": "Python 3",
   "language": "python",
   "name": "python3"
  },
  "language_info": {
   "codemirror_mode": {
    "name": "ipython",
    "version": 3
   },
   "file_extension": ".py",
   "mimetype": "text/x-python",
   "name": "python",
   "nbconvert_exporter": "python",
   "pygments_lexer": "ipython3",
   "version": "3.6.10"
  }
 },
 "nbformat": 4,
 "nbformat_minor": 2
}
