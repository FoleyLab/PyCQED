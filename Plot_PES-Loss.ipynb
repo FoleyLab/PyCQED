{
 "cells": [
  {
   "cell_type": "markdown",
   "metadata": {},
   "source": [
    "Run this script to compute or plot potential energy surface color-coded for photonic/excitonic contribution for different cavity parameters."
   ]
  },
  {
   "cell_type": "code",
   "execution_count": 33,
   "metadata": {},
   "outputs": [],
   "source": [
    "### Import all libraries and define various parameters here!\n",
    "import numpy as np\n",
    "from polaritonic import polaritonic\n",
    "from numpy import linalg as LA\n",
    "import math\n",
    "from matplotlib import pyplot as plt\n",
    "from matplotlib import cm\n",
    "from matplotlib import rcParams\n",
    "from scipy import linalg\n",
    "\n",
    "\n",
    "rcParams['font.family'] = 'serif'\n",
    "rcParams['font.size'] = 14"
   ]
  },
  {
   "cell_type": "markdown",
   "metadata": {},
   "source": [
    "The following cell will actually compute the derivative coupling and write it to a file.  \n",
    "You can change the $\\gamma$ parameter (via the `gamp=X` line) and the filename (via `prefix = Y` line) here!"
   ]
  },
  {
   "cell_type": "code",
   "execution_count": 43,
   "metadata": {},
   "outputs": [
    {
     "name": "stdout",
     "output_type": "stream",
     "text": [
      "scaling condition True\n",
      "complex condition True\n"
     ]
    },
    {
     "data": {
      "text/plain": [
       "1"
      ]
     },
     "execution_count": 43,
     "metadata": {},
     "output_type": "execute_result"
    }
   ],
   "source": [
    "#ri_init = -0.66156\n",
    "ri_init = -0.60\n",
    "vi_init = 3.3375e-5\n",
    "'''NOTE 1:  when you change gamp, you change the lifetime in Hamiltonian!'''\n",
    "### lifetime\n",
    "gamp = 100.0\n",
    "gam_diss_np = gamp * 1e-3 / 27.211\n",
    "\n",
    "### photonic mode energy in eV\n",
    "omp = 2.45\n",
    "### convert to a.u.\n",
    "omc = omp/27.211\n",
    "### coupling strength in eV\n",
    "gp = 0.02\n",
    "gc = gp/27.211\n",
    "\n",
    "au_to_ps = 2.4188e-17 * 1e12\n",
    "\n",
    "### get prefix for data file names\n",
    "'''NOTE 2:  when you prefix, it will change the file name that the data is written to, and in the next cell that \n",
    "   plots the data, this file name will automatically be read from.  Make sure you change the prefix accordingly each \n",
    "   time you change the gamp parameter.'''\n",
    "prefix = \"gam_0.1\"\n",
    "### filename to wrote PES to\n",
    "pes_fn = \"Data/\" + prefix + '_pes.txt'\n",
    "### filename to write photonic contributions of each state to\n",
    "pc_fn = \"Data/\" + prefix + '_photon_contribution.txt'\n",
    "filename = prefix + \".eps\"\n",
    "\n",
    "options = {\n",
    "        'Number_of_Photons': 1,\n",
    "        'Complex_Frequency': True,\n",
    "        'Photon_Energys': [omc],\n",
    "        'Coupling_Strengths': [gc], \n",
    "        'Photon_Lifetimes': [gam_diss_np],\n",
    "        'Initial_Position': ri_init,\n",
    "        'Initial_Velocity': vi_init,\n",
    "        'Mass': 1009883,\n",
    "        ### temperature in a.u.\n",
    "        'Temperature': 0.00095,\n",
    "        ### friction in a.u.\n",
    "        'Friction': 0.000011,\n",
    "        ### specify initial state as a human would, not a computer...\n",
    "        ### i.e. 1 is the ground state... it will be shifted down by -1 so\n",
    "        ### that it makes sense to the python index convention\n",
    "        'Initial_Local_State': 3\n",
    "        \n",
    "        }\n",
    "\n",
    "### instantiate\n",
    "polt = polaritonic(options)\n",
    "### write forces and derivative coupling\n",
    "polt.Write_PES(pes_fn, pc_fn)\n",
    "#print(polt.H_total)\n",
    "#a, lv = linalg.eig(polt.H_total, left=True, right=False)\n",
    "#a, rv = linalg.eig(polt.H_total, left=False, right=True)\n",
    "#print('diff')\n",
    "#print(lv)\n",
    "#print(rv)"
   ]
  },
  {
   "cell_type": "code",
   "execution_count": 45,
   "metadata": {},
   "outputs": [
    {
     "data": {
      "image/png": "[encoded data removed]",
      "text/plain": [
       "<Figure size 432x288 with 1 Axes>"
      ]
     },
     "metadata": {
      "needs_background": "light"
     },
     "output_type": "display_data"
    }
   ],
   "source": [
    "rlist = np.linspace(-1.5, 1.5, 500)\n",
    "v_dot_LP = np.zeros(500, dtype=complex)\n",
    "v_dot_UP = np.zeros(500, dtype=complex)\n",
    "#polt.R = -0.6\n",
    "#polt.H_e()\n",
    "#polt.H_total = np.copy(polt.H_electronic + polt.H_photonic + polt.H_interaction)\n",
    "#polt.Transform_L_to_P()\n",
    "#v = polt.transformation_vecs_L_to_P\n",
    "#lv = polt.l_transformation_vecs_L_to_P\n",
    "#v_dot_LP = np.dot(lv[:,1], v[:,1])\n",
    "#v_dot_UP = np.dot(lv[:,2], v[:,2])\n",
    "#print(lv[:,1])\n",
    "#print(v[:,1])\n",
    "#print(v_dot_LP)\n",
    "#print(v_dot_UP)\n",
    "\n",
    "        \n",
    "for i in range(0,len(rlist)):\n",
    "    polt.R = rlist[i]\n",
    "    polt.H_e()\n",
    "    polt.H_total = np.copy(polt.H_electronic + polt.H_photonic + polt.H_interaction)\n",
    "    polt.Transform_L_to_P()\n",
    "    v = polt.transformation_vecs_L_to_P\n",
    "    lv = polt.l_transformation_vecs_L_to_P\n",
    "            \n",
    "    #for i in range(0,polt.N_basis_states):\n",
    "    #print(polt.R, np.dot(lv_i, v_i))\n",
    "    v_dot_LP[i] = np.dot(np.conj(v[:,2]), v[:,1])\n",
    "    v_dot_UP[i] = np.dot(np.conj(lv[:,1]), lv[:,2])\n",
    "    \n",
    "    \n",
    "plt.plot(rlist, np.abs(v_dot_LP), 'red')\n",
    "plt.plot(rlist, np.abs(v_dot_UP), 'b--')\n",
    "\n",
    "plt.show()\n"
   ]
  },
  {
   "cell_type": "markdown",
   "metadata": {},
   "source": [
    "Once the derivative coupling has been written to a file (or several have been written to a file), you can parse the files and plot them with the following cell!"
   ]
  },
  {
   "cell_type": "code",
   "execution_count": null,
   "metadata": {},
   "outputs": [],
   "source": [
    "pes_0p1 = np.loadtxt(\"Data/gam_0.1_pes.txt\", dtype=complex)\n",
    "pes_1p0 = np.loadtxt(\"Data/gam_1.0_pes.txt\", dtype=complex)\n",
    "pes_10p0 = np.loadtxt(\"Data/gam_10.0_pes.txt\", dtype=complex)\n",
    "#pes_100p0 = np.loadtxt(\"Data/gam_100.0_pes.txt\", dtype=complex)\n",
    "\n",
    "\n",
    "\n"
   ]
  },
  {
   "cell_type": "code",
   "execution_count": null,
   "metadata": {},
   "outputs": [],
   "source": [
    "### read text file\n",
    "\n",
    "plt.plot(pes_0p1[:,0], 27.211*np.imag(pes_0p1[:,3]), 'red', label='$\\hbar \\gamma$ = 0.1 meV')\n",
    "plt.plot(pes_0p1[:,0], 27.211*np.imag(pes_1p0[:,3]), 'blue', label='$\\hbar \\gamma$ = 1.0 meV')\n",
    "plt.plot(pes_0p1[:,0], 27.211*np.imag(pes_10p0[:,3]), 'green', label='$\\gamma$ = 10.0 meV')\n",
    "#plt.plot(pes_100p0[:,0], 27.211*np.imag(pes_100p0[:,3]), label='$\\gamma$ = 100.0')\n",
    "#fig, ax = plt.subplots()\n",
    "#cm = plt.cm.get_cmap('rainbow')\n",
    "#im = ax.scatter(pes_v[:,0], 27.211*np.imag(pes_v[:,2]), c=np.abs(np.imag(pes_v[:,2])),cmap=cm, s=1) \n",
    "#im = ax.scatter(pes_v[:,0], 27.211*np.imag(pes_v[:,3]), c=np.abs(np.imag(pes_v[:,3])),cmap=cm, s=1)\n",
    "#im = ax.scatter(pes_v[:,0], 27.211*np.abs(pes_v[:,4]), c=pc_v[:,4],cmap=cm, s=4)\n",
    "#cbar = fig.colorbar(im, ticks=[-5e-5, ])\n",
    "#cbar.ax.set_yticklabels(['excitonic', 'polaritonic', 'photonic'])\n",
    "plt.legend()\n",
    "plt.xlim(-1,1)\n",
    "#plt.ylim(-1e-3, 1e-3)\n",
    "plt.xlabel(\"R (a.u.)\")\n",
    "plt.ylabel(\"Im($E_U$) (eV)\")\n",
    "plt.savefig(\"ImPES.eps\")\n",
    "plt.show()"
   ]
  },
  {
   "cell_type": "code",
   "execution_count": null,
   "metadata": {},
   "outputs": [],
   "source": []
  }
 ],
 "metadata": {
  "kernelspec": {
   "display_name": "Python 3",
   "language": "python",
   "name": "python3"
  },
  "language_info": {
   "codemirror_mode": {
    "name": "ipython",
    "version": 3
   },
   "file_extension": ".py",
   "mimetype": "text/x-python",
   "name": "python",
   "nbconvert_exporter": "python",
   "pygments_lexer": "ipython3",
   "version": "3.7.4"
  }
 },
 "nbformat": 4,
 "nbformat_minor": 2
}
