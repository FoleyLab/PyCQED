{
 "cells": [
  {
   "cell_type": "markdown",
   "metadata": {},
   "source": [
    "Following Mandal and Huo in their J. Phys. Chem. Lett. paper [here](https://pubs.acs.org/doi/abs/10.1021/acs.jpclett.9b01599), we will define the polariton Hamiltonian as follows:\n",
    "\n",
    "\\begin{equation}\n",
    "\\hat{H}_{pl} = \\hat{H}_{el} + \\hat{H}_p + \\hat{H}_{el,p}\n",
    "\\end{equation}\n",
    "\n",
    "where $\\hat{H}_e$ denotes the electronic Hamiltonian:\n",
    "\\begin{equation}\n",
    "\\hat{H}_{el} = E_g(R) \\: \\hat{a}^{\\dagger}_g \\hat{a}_g + E_e(R) \\: \\hat{a}^{\\dagger}_e \\hat{a}_e,\n",
    "\\end{equation}\n",
    "where $E_g(R)$ ($E_e(R)$) denotes the ground- (excited-) state electronic energy at nuclear coordinate $R$, and\n",
    "$\\hat{a}^{\\dagger}_p$ ($\\hat{a}_p$) are the creation (annihilation) operators for electronic state $p$.\n",
    "The following matrix elements are equal to 1 using these operators and the basis states spanning $|g\\rangle , |e\\rangle$.\n",
    "\\begin{align}\n",
    "\\langle g | \\hat{a}^{\\dagger}_g \\hat{a}_g | g \\rangle = 1 \\\\\n",
    "\\langle e | \\hat{a}^{\\dagger}_e \\hat{a}_e | e \\rangle = 1 \\\\\n",
    "\\langle g | \\hat{a}^{\\dagger}_g \\hat{a}_e | e \\rangle = 1 \\\\\n",
    "\\langle e | \\hat{a}^{\\dagger}_e \\hat{a}_g | g \\rangle = 1; \n",
    "\\end{align}\n",
    "all other are zero.\n",
    "\n",
    "\n",
    "The photon Hamiltonian is \n",
    "\\begin{equation}\n",
    "\\hat{H}_p = \\hbar \\omega_c \\left(\\hat{b}^{\\dagger} \\hat{b} + \\frac{1}{2}  \\right),\n",
    "\\end{equation}\n",
    "where $\\hat{b}^{\\dagger}$ and $\\hat{b}$ denote the raising/lowering operators for the photon states, respectively.\n",
    "The raising operator has the general effect on the basis states $|n\\rangle$,\n",
    "\\begin{equation}\n",
    "\\hat{b}^{\\dagger} |n\\rangle = \\sqrt{n+1} |n+1\\rangle,\n",
    "\\end{equation}\n",
    "while the lowering operator has the general effect\n",
    "\\begin{equation}\n",
    "\\hat{b} |n\\rangle = \\sqrt{n} |n-1\\rangle;\n",
    "\\end{equation}\n",
    "importantly, $\\hat{b} |0\\rangle  = 0$.  Both the photon and the electronic basis states form an orthonormal \n",
    "set, such that\n",
    "\\begin{equation}\n",
    "\\langle i | j \\rangle = \\delta_{ij}.\n",
    "\\end{equation}\n",
    "\n",
    "Following Eq. S2 from Mandal and Huo, we compute $E_g(R)$ and $E_e(R)$ using the following code (see S2 in [this document](https://pubs.acs.org/doi/suppl/10.1021/acs.jpclett.9b01599/suppl_file/jz9b01599_si_001.pdf) for explicit equations):"
   ]
  },
  {
   "cell_type": "code",
   "execution_count": 5,
   "metadata": {},
   "outputs": [],
   "source": [
    "import numpy as np\n",
    "from numpy import linalg as LA\n",
    "import math\n",
    "from matplotlib import pyplot as plt\n",
    "\n",
    "### Function to return the ground and excited-state electronic energy as a function of\n",
    "### the nuclear coordinate $R$\n",
    "def E_of_R(R):\n",
    "    Ai = np.array([0.049244, 0.010657, 0.428129, 0.373005])\n",
    "    Bi = np.array([0.18, 0.18, 0.18, 0.147])\n",
    "    Ri = np.array([-0.75, 0.85, -1.15, 1.25])\n",
    "    Di = np.array([0.073, 0.514])\n",
    "    \n",
    "    v = Ai + Bi*(R - Ri)**2\n",
    "    \n",
    "    Eg = 0.5*(v[0] + v[1]) - np.sqrt(Di[0]**2 + 0.25 * (v[0] - v[1])**2)\n",
    "    Ee = 0.5*(v[2] + v[3]) - np.sqrt(Di[1]**2 + 0.25 * (v[2] - v[3])**2)\n",
    "    return [Eg, Ee]\n",
    "    "
   ]
  },
  {
   "cell_type": "code",
   "execution_count": 8,
   "metadata": {},
   "outputs": [
    {
     "data": {
      "image/png": "[encoded data removed]",
      "text/plain": [
       "<Figure size 432x288 with 1 Axes>"
      ]
     },
     "metadata": {},
     "output_type": "display_data"
    }
   ],
   "source": [
    "### Code to run E_of_R function for a variety of values of R between -1.5 and 1.5 atomic units\n",
    "### and plot the energy in electron volts for the ground- and excited-state surface, \n",
    "### giving the plot from Figure 2 of Mandal and Huo's paper\n",
    "rlist = np.linspace(-1.5, 1.5, 50)\n",
    "\n",
    "E_ground = []\n",
    "E_excite = []\n",
    "for r in rlist:\n",
    "    PES = E_of_R(r)\n",
    "    E_ground.append(PES[0]*27.211)\n",
    "    E_excite.append(PES[1]*27.211)\n",
    "    \n",
    "plt.plot(rlist, E_ground, 'red', label='|g>')\n",
    "plt.plot(rlist, E_excite, 'blue', label='|e>')\n",
    "plt.xlabel(\"R (a.u.)\")\n",
    "plt.ylabel(\"E (eV)\")\n",
    "plt.legend()\n",
    "plt.show()"
   ]
  },
  {
   "cell_type": "code",
   "execution_count": null,
   "metadata": {},
   "outputs": [],
   "source": []
  }
 ],
 "metadata": {
  "kernelspec": {
   "display_name": "Python 3",
   "language": "python",
   "name": "python3"
  },
  "language_info": {
   "codemirror_mode": {
    "name": "ipython",
    "version": 3
   },
   "file_extension": ".py",
   "mimetype": "text/x-python",
   "name": "python",
   "nbconvert_exporter": "python",
   "pygments_lexer": "ipython3",
   "version": "3.6.5"
  }
 },
 "nbformat": 4,
 "nbformat_minor": 2
}
