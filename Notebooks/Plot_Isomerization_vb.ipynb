{
 "cells": [
  {
   "cell_type": "code",
   "execution_count": 12,
   "metadata": {},
   "outputs": [
    {
     "name": "stdout",
     "output_type": "stream",
     "text": [
      "[1.00000000e-02 3.16227766e-02 1.00000000e-01 3.16227766e-01\n",
      " 1.00000000e+00 3.16227766e+00 1.00000000e+01 3.16227766e+01\n",
      " 1.00000000e+02 3.16227766e+02 1.00000000e+03]\n"
     ]
    },
    {
     "data": {
      "image/png": "[encoded data removed]",
      "text/plain": [
       "<Figure size 432x288 with 1 Axes>"
      ]
     },
     "metadata": {
      "needs_background": "light"
     },
     "output_type": "display_data"
    }
   ],
   "source": [
    "from matplotlib import cm\n",
    "from matplotlib import rcParams\n",
    "from matplotlib import pyplot as plt\n",
    "import numpy as np\n",
    "rcParams['font.family'] = 'serif'\n",
    "rcParams['font.size'] = 14\n",
    "\n",
    "fig, ax = plt.subplots(constrained_layout=True)\n",
    "#x = np.array([0.01, 0.05, 0.1, 1.0, 10., 50.,100., 150.,200.])\n",
    "x = np.array([10**(-2), 10**(-1.5), 10**(-1), 10**(-0.5), 10**0, 10**0.5, 10**1.0, 10**1.5, 10**2, 10**2.5, 10**3])\n",
    "print(x)\n",
    "#y = np.array([100, 90, 84, 80, 75, 0, 25, 40, 50])\n",
    "\n",
    "#log10(gamma_list) -> -2, -1.5, -1, -0.5, 0, 0.5, 1, 1.5, 2, 2.5, 3\n",
    "\n",
    "# How do we convert dissipation rate from meV into femtoseconds?\n",
    "# How do we add a second x-legend to the pyplot figure, for example, at the top of\n",
    "# the figure so that we can report meV and fs in the same figure?\n",
    "#ax.plot(np.log10(x), y, 'o-', color='blue', label = 'Trans')\n",
    "#ax.plot(np.log10(x), 100-y, 'o-',  color='red', label = 'Cis')\n",
    "#ax.set_xlabel('$\\hbar \\gamma$ (meV)')\n",
    "#ax.set_ylabel('Isomerization Rate')\n",
    "#ax.set_ylim(0,120)\n",
    "#ax.legend()\n",
    "#plt.savefig(\"Isomerization.eps\")\n",
    "#plt.show()\n",
    "\n",
    "\n"
   ]
  },
  {
   "cell_type": "code",
   "execution_count": null,
   "metadata": {},
   "outputs": [],
   "source": []
  }
 ],
 "metadata": {
  "kernelspec": {
   "display_name": "Python 3",
   "language": "python",
   "name": "python3"
  },
  "language_info": {
   "codemirror_mode": {
    "name": "ipython",
    "version": 3
   },
   "file_extension": ".py",
   "mimetype": "text/x-python",
   "name": "python",
   "nbconvert_exporter": "python",
   "pygments_lexer": "ipython3",
   "version": "3.7.4"
  }
 },
 "nbformat": 4,
 "nbformat_minor": 2
}
