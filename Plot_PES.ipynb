{
 "cells": [
  {
   "cell_type": "markdown",
   "metadata": {},
   "source": [
    "Run this script to compute or plot potential energy surface color-coded for photonic/excitonic contribution for different cavity parameters."
   ]
  },
  {
   "cell_type": "code",
   "execution_count": 2,
   "metadata": {},
   "outputs": [],
   "source": [
    "### Import all libraries and define various parameters here!\n",
    "import numpy as np\n",
    "from polaritonic import polaritonic\n",
    "from numpy import linalg as LA\n",
    "import math\n",
    "from matplotlib import pyplot as plt\n",
    "from matplotlib import cm\n",
    "from matplotlib import rcParams\n",
    "rcParams['font.family'] = 'serif'\n",
    "rcParams['font.size'] = 13"
   ]
  },
  {
   "cell_type": "markdown",
   "metadata": {},
   "source": [
    "The following cell will actually compute the derivative coupling and write it to a file.  You can change the $\\gamma$ parameter and the filename (via $prefix$) here!"
   ]
  },
  {
   "cell_type": "code",
   "execution_count": 3,
   "metadata": {},
   "outputs": [
    {
     "data": {
      "text/plain": [
       "1"
      ]
     },
     "execution_count": 3,
     "metadata": {},
     "output_type": "execute_result"
    }
   ],
   "source": [
    "ri_init = -0.66156\n",
    "vi_init = 3.3375e-5\n",
    "### lifetime\n",
    "gamp = 10.000\n",
    "gam_diss_np = gamp * 1e-3 / 27.211\n",
    "\n",
    "### photonic mode energy in eV\n",
    "omp = 2.45\n",
    "### convert to a.u.\n",
    "omc = omp/27.211\n",
    "### coupling strength in eV\n",
    "gp = 0.02\n",
    "gc = gp/27.211\n",
    "\n",
    "au_to_ps = 2.4188e-17 * 1e12\n",
    "\n",
    "### get prefix for data file names\n",
    "prefix = \"gam_10.0\"\n",
    "### filename to wrote PES to\n",
    "pes_fn = \"Data/\" + prefix + '_pes.txt'\n",
    "### filename to write photonic contributions of each state to\n",
    "pc_fn = \"Data/\" + prefix + '_photon_contribution.txt'\n",
    "filename = prefix + \".eps\"\n",
    "\n",
    "options = {\n",
    "        'Number_of_Photons': 1,\n",
    "        'Complex_Frequency': True,\n",
    "        'Photon_Energys': [omc],\n",
    "        'Coupling_Strengths': [gc], \n",
    "        'Photon_Lifetimes': [gam_diss_np],\n",
    "        'Initial_Position': ri_init,\n",
    "        'Initial_Velocity': vi_init,\n",
    "        'Mass': 1009883,\n",
    "        ### temperature in a.u.\n",
    "        'Temperature': 0.00095,\n",
    "        ### friction in a.u.\n",
    "        'Friction': 0.000011,\n",
    "        ### specify initial state as a human would, not a computer...\n",
    "        ### i.e. 1 is the ground state... it will be shifted down by -1 so\n",
    "        ### that it makes sense to the python index convention\n",
    "        'Initial_Local_State': 3\n",
    "        \n",
    "        }\n",
    "\n",
    "### instantiate\n",
    "polt = polaritonic(options)\n",
    "### write forces and derivative coupling\n",
    "polt.Write_PES(pes_fn, pc_fn)\n"
   ]
  },
  {
   "cell_type": "markdown",
   "metadata": {},
   "source": [
    "Once the derivative coupling has been written to a file (or several have been written to a file), you can parse the files and plot them with the following cell!"
   ]
  },
  {
   "cell_type": "code",
   "execution_count": 5,
   "metadata": {},
   "outputs": [
    {
     "data": {
      "image/png": "[encoded data removed]",
      "text/plain": [
       "<Figure size 432x288 with 2 Axes>"
      ]
     },
     "metadata": {
      "needs_background": "light"
     },
     "output_type": "display_data"
    }
   ],
   "source": [
    "\n",
    "\n",
    "\n",
    "### read text file\n",
    "pes_v = np.loadtxt(pes_fn,dtype=complex)\n",
    "pc_v = np.loadtxt(pc_fn,dtype=complex)\n",
    "\n",
    "\n",
    "fig, ax = plt.subplots()\n",
    "cm = plt.cm.get_cmap('rainbow')\n",
    "im = ax.scatter(pes_v[:,0], 27.211*np.abs(pes_v[:,1]), c=pc_v[:,1],cmap=cm, s=4) \n",
    "im = ax.scatter(pes_v[:,0], 27.211*np.abs(pes_v[:,2]), c=pc_v[:,2],cmap=cm, s=4) \n",
    "im = ax.scatter(pes_v[:,0], 27.211*np.abs(pes_v[:,3]), c=pc_v[:,3],cmap=cm, s=4) \n",
    "cbar = fig.colorbar(im, ticks=[0.1, 0.5, 0.9])\n",
    "cbar.ax.set_yticklabels(['excitonic', 'polaritonic', 'photonic'])\n",
    "plt.xlim(-1.,1.)\n",
    "#plt.ylim(3.5,6.)\n",
    "plt.xlabel(\"R (a.u.)\")\n",
    "plt.ylabel(\"Energy (eV)\")\n",
    "plt.savefig(filename)\n",
    "plt.show()\n",
    "\n"
   ]
  },
  {
   "cell_type": "code",
   "execution_count": null,
   "metadata": {},
   "outputs": [],
   "source": []
  },
  {
   "cell_type": "code",
   "execution_count": null,
   "metadata": {},
   "outputs": [],
   "source": []
  }
 ],
 "metadata": {
  "kernelspec": {
   "display_name": "Python 3",
   "language": "python",
   "name": "python3"
  },
  "language_info": {
   "codemirror_mode": {
    "name": "ipython",
    "version": 3
   },
   "file_extension": ".py",
   "mimetype": "text/x-python",
   "name": "python",
   "nbconvert_exporter": "python",
   "pygments_lexer": "ipython3",
   "version": "3.7.4"
  }
 },
 "nbformat": 4,
 "nbformat_minor": 2
}
