{
 "cells": [
  {
   "cell_type": "markdown",
   "metadata": {},
   "source": [
    "Run this script to compute or plot the derivative coupling between polariton states $\\Phi_3$ and $\\Phi_2$ in the 1-molecule 1-photon system as a function of the photonic lifetime, $\\gamma$.  "
   ]
  },
  {
   "cell_type": "code",
   "execution_count": 1,
   "metadata": {},
   "outputs": [],
   "source": [
    "### Import all libraries and define various parameters here!\n",
    "import numpy as np\n",
    "from polaritonic import polaritonic\n",
    "from numpy import linalg as LA\n",
    "import math\n",
    "from matplotlib import pyplot as plt\n",
    "from matplotlib import cm\n",
    "from matplotlib import rcParams\n",
    "rcParams['font.family'] = 'serif'\n",
    "rcParams['font.size'] = 14"
   ]
  },
  {
   "cell_type": "markdown",
   "metadata": {},
   "source": [
    "The following cell will actually compute the derivative coupling and write it to a file.  You can change the $\\gamma$ parameter and the filename (via $prefix$) here!"
   ]
  },
  {
   "cell_type": "code",
   "execution_count": 8,
   "metadata": {},
   "outputs": [
    {
     "name": "stdout",
     "output_type": "stream",
     "text": [
      "[[0.        +0.j         0.        +0.j         0.        +0.j\n",
      "  0.        +0.j        ]\n",
      " [0.        +0.j         0.09003712-0.00367498j 0.        +0.j\n",
      "  0.        +0.j        ]\n",
      " [0.        +0.j         0.        +0.j         0.        +0.j\n",
      "  0.        +0.j        ]\n",
      " [0.        +0.j         0.        +0.j         0.        +0.j\n",
      "  0.09003712-0.00367498j]]\n"
     ]
    }
   ],
   "source": [
    "ri_init = -0.66156\n",
    "vi_init = 3.3375e-5\n",
    "### lifetime\n",
    "gamp = 100.000\n",
    "gam_diss_np = gamp * 1e-3 / 27.211\n",
    "\n",
    "### photonic mode energy in eV\n",
    "omp = 2.45\n",
    "### convert to a.u.\n",
    "omc = omp/27.211\n",
    "### coupling strength in eV\n",
    "gp = 0.02\n",
    "gc = gp/27.211\n",
    "\n",
    "au_to_ps = 2.4188e-17 * 1e12\n",
    "\n",
    "### get prefix for data file names\n",
    "prefix = \"gam_100.0\"\n",
    "### filename to write nuclear trajectory to\n",
    "nuc_traj_fn = \"Data/\" + prefix + '_nuc_traj.txt'\n",
    "### filename to wrote PES to\n",
    "pes_fn = \"Data/\" + prefix + '_pes.txt'\n",
    "### filename to write electronic/polaritonic dynamics to\n",
    "ed_fn = \"Data/\" + prefix + '_electronic.txt'\n",
    "### filename to write photonic contributions of each state to\n",
    "pc_fn = \"Data/\" + prefix + '_photon_contribution.txt'\n",
    "\n",
    "### hellman-Feynman file \n",
    "hf_fn = \"Data/\" + prefix + \"_hf.txt\"\n",
    "\n",
    "\n",
    "options = {\n",
    "        'Number_of_Photons': 1,\n",
    "        'Complex_Frequency': True,\n",
    "        'Photon_Energys': [omc],\n",
    "        'Coupling_Strengths': [gc], \n",
    "        'Photon_Lifetimes': [gam_diss_np],\n",
    "        'Initial_Position': ri_init,\n",
    "        'Initial_Velocity': vi_init,\n",
    "        'Mass': 1009883,\n",
    "        ### temperature in a.u.\n",
    "        'Temperature': 0.00095,\n",
    "        ### friction in a.u.\n",
    "        'Friction': 0.000011,\n",
    "        ### specify initial state as a human would, not a computer...\n",
    "        ### i.e. 1 is the ground state... it will be shifted down by -1 so\n",
    "        ### that it makes sense to the python index convention\n",
    "        'Initial_Local_State': 3\n",
    "        \n",
    "        }\n",
    "\n",
    "### instantiate\n",
    "polt = polaritonic(options)\n",
    "### write forces and derivative coupling\n",
    "polt.Write_Forces(hf_fn)\n",
    "\n",
    "print(polt.H_photonic)"
   ]
  },
  {
   "cell_type": "markdown",
   "metadata": {},
   "source": [
    "### Use this to check the Derivative Coupling method"
   ]
  },
  {
   "cell_type": "code",
   "execution_count": null,
   "metadata": {},
   "outputs": [],
   "source": [
    "polt.R = -0.59\n",
    "polt.H_e()\n",
    "polt.H_total = np.copy(polt.H_electronic + polt.H_photonic + polt.H_interaction)\n",
    "polt.Transform_L_to_P()\n",
    "c2 = polt.transformation_vecs_L_to_P[:,1]\n",
    "c2s = np.conj(c2)\n",
    "c3 = polt.transformation_vecs_L_to_P[:,2]\n",
    "V22 = polt.polariton_energies[1]\n",
    "V33 = polt.polariton_energies[2]\n",
    "\n",
    "\n",
    "polt.R = -0.59+polt.dr\n",
    "polt.H_e()\n",
    "polt.H_total = np.copy(polt.H_electronic + polt.H_photonic + polt.H_interaction)\n",
    "Hf = np.copy(polt.H_total)\n",
    "polt.R = -0.59-polt.dr\n",
    "polt.H_e()\n",
    "polt.H_total = np.copy(polt.H_electronic + polt.H_photonic + polt.H_interaction)\n",
    "\n",
    "Hb = np.copy(polt.H_total)\n",
    "Hp = np.copy((Hf-Hb)/(2*polt.dr))\n",
    "t = np.dot(Hp, c3)\n",
    "d23 = np.dot(c2s, t)\n",
    "print(-d23/(V33-V22))\n",
    "polt.R = -0.59\n",
    "polt.Derivative_Coupling()\n",
    "print(polt.dc[1,2])\n",
    "#print(np.real(Hp))\n",
    "#print(np.transpose(A))\n",
    "#print(np.imag(polt.dc))\n",
    "#print(np.imag(np.conj(polt.dc)))"
   ]
  },
  {
   "cell_type": "markdown",
   "metadata": {},
   "source": [
    "Once the derivative coupling has been written to a file (or several have been written to a file), you can parse the files and plot them with the following cell!"
   ]
  },
  {
   "cell_type": "code",
   "execution_count": 6,
   "metadata": {},
   "outputs": [
    {
     "name": "stderr",
     "output_type": "stream",
     "text": [
      "The PostScript backend does not support transparency; partially transparent artists will be rendered opaque.\n",
      "The PostScript backend does not support transparency; partially transparent artists will be rendered opaque.\n"
     ]
    },
    {
     "data": {
      "image/png": "[encoded data removed]",
      "text/plain": [
       "<Figure size 432x288 with 1 Axes>"
      ]
     },
     "metadata": {
      "needs_background": "light"
     },
     "output_type": "display_data"
    }
   ],
   "source": [
    "#hf_0 = \"Data/gam_0.0_hf.txt\"\n",
    "hf_1 = \"Data/gam_1.0_hf.txt\"\n",
    "hf_10 = \"Data/gam_50.0_hf.txt\"\n",
    "hf_100 = \"Data/gam_100.0_hf.txt\"\n",
    "\n",
    "\n",
    "### read text file\n",
    "dc_1 = np.loadtxt(hf_1,dtype=complex)\n",
    "dc_10 = np.loadtxt(hf_10,dtype=complex)\n",
    "dc_100 = np.loadtxt(hf_100,dtype=complex)\n",
    "#dc_100 = np.loadtxt(hf_100,dtype=complex)\n",
    "\n",
    "\n",
    "#plt.plot(dc_100[:,0], np.real(dc_100[:,2]), 'indigo', label='HF Force on 2')\n",
    "#plt.plot(dc_100[:,0], np.real(dc_100[:,5]), 'r--', label='Full Force on 2')\n",
    "#plt.plot(dc_10[:,0], np.real(dc_100[:,1]), 'Blue', label='Abs $\\gamma$=100 meV')\n",
    "#plt.plot(dc_0[:,0], dc_10[:,3], 'green', label='$\\gamma$=50 meV')\n",
    "plt.plot(dc_100[:,0], np.abs(dc_1[:,3]), 'red', label='$\\gamma$=1 meV')\n",
    "plt.plot(dc_100[:,0], np.abs(dc_10[:,3]), 'blue', label='$\\gamma$=50 meV')\n",
    "plt.plot(dc_100[:,0], np.abs(dc_100[:,3]), 'green', label='$\\gamma$=100 meV')\n",
    "plt.legend()\n",
    "plt.xlim(-.65,-.55)\n",
    "#plt.ylim(-20.,20)\n",
    "plt.xlabel(\"R (a.u.)\")\n",
    "plt.ylabel(\"Re $( d_{3,2} )$ (a.u.)\")\n",
    "plt.savefig(\"DC_abs.eps\")\n",
    "plt.show()"
   ]
  },
  {
   "cell_type": "code",
   "execution_count": 7,
   "metadata": {},
   "outputs": [
    {
     "data": {
      "image/png": "[encoded data removed]",
      "text/plain": [
       "<Figure size 432x288 with 1 Axes>"
      ]
     },
     "metadata": {
      "needs_background": "light"
     },
     "output_type": "display_data"
    }
   ],
   "source": [
    "\n",
    "\n",
    "#plt.plot(dc_100[:,0], np.real(dc_1[:,2]), 'indigo', label='HF Force on 2')\n",
    "#plt.plot(dc_100[:,0], np.real(dc_100[:,5]), 'r--', label='Full Force on 2')\n",
    "plt.plot(dc_100[:,0], np.real(dc_1[:,2]), 'red', label='$\\gamma$=1 meV')\n",
    "plt.plot(dc_100[:,0], np.real(dc_10[:,2]), 'blue', label='$\\gamma$=50 meV')\n",
    "plt.plot(dc_100[:,0], np.real(dc_100[:,2]), 'green', label='$\\gamma$=100 meV')\n",
    "plt.legend()\n",
    "#plt.xlim(-.65,-.55)\n",
    "#plt.ylim(-20.,20)\n",
    "plt.xlabel(\"R (a.u.)\")\n",
    "plt.ylabel(\"Nuclear Force on Polariton Surface 3\")\n",
    "#plt.savefig(\"DC.eps\")\n",
    "plt.show()"
   ]
  },
  {
   "cell_type": "code",
   "execution_count": null,
   "metadata": {},
   "outputs": [],
   "source": []
  }
 ],
 "metadata": {
  "kernelspec": {
   "display_name": "Python 3",
   "language": "python",
   "name": "python3"
  },
  "language_info": {
   "codemirror_mode": {
    "name": "ipython",
    "version": 3
   },
   "file_extension": ".py",
   "mimetype": "text/x-python",
   "name": "python",
   "nbconvert_exporter": "python",
   "pygments_lexer": "ipython3",
   "version": "3.7.4"
  }
 },
 "nbformat": 4,
 "nbformat_minor": 2
}
