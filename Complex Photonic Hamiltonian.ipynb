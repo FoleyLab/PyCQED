{
 "cells": [
  {
   "cell_type": "code",
   "execution_count": 53,
   "metadata": {},
   "outputs": [
    {
     "data": {
      "text/plain": [
       "1"
      ]
     },
     "execution_count": 53,
     "metadata": {},
     "output_type": "execute_result"
    }
   ],
   "source": [
    "from polaritonic import polaritonic\n",
    "import numpy as np\n",
    "#from matplotlib import pyplot as plt\n",
    "#import matplotlib.animation as animation\n",
    "import time\n",
    "import sys\n",
    "\n",
    "### dummi initial position and velocity values\n",
    "ri_init = -0.66156\n",
    "vi_init = 3.3375e-5\n",
    "\n",
    "### Number of repeates\n",
    "N_repeats = 1 #int(sys.argv[1])\n",
    "### photonic mode dissipation rate in meV, gamma\n",
    "gamp = 0. #float(sys.argv[2]) \n",
    "#gamp = 0.1\n",
    "### convert to a.u.\n",
    "gam_diss_np = gamp * 1e-3 / 27.211\n",
    "\n",
    "### photonic mode energy in eV\n",
    "omp = 2.45 #float(sys.argv[3])\n",
    "#omp = 2.45\n",
    "### convert to a.u.\n",
    "omc = omp/27.211\n",
    "### coupling strength in eV\n",
    "gp = 0.02 #float(sys.argv[4])\n",
    "#gp = 0.02\n",
    "gc = gp/27.211\n",
    "\n",
    "au_to_ps = 2.4188e-17 * 1e12\n",
    "\n",
    "### get prefix for data file names\n",
    "prefix = \"test\" #sys.argv[5]\n",
    "#prefix = \"test\"\n",
    "### filename to write nuclear trajectory to\n",
    "nuc_traj_fn = \"Data/\" + prefix + '_nuc_traj.txt'\n",
    "### filename to wrote PES to\n",
    "pes_fn = \"Data/\" + prefix + '_pes.txt'\n",
    "cpes_fn = \"Data/\" + prefix + '_complex_pes.txt'\n",
    "### filename to write electronic/polaritonic dynamics to\n",
    "ed_fn = \"Data/\" + prefix + '_electronic.txt'\n",
    "### filename to write photonic contributions of each state to\n",
    "pc_fn = \"Data/\" + prefix + '_photon_contribution.txt'\n",
    "cpc_fn = \"Data/\" + prefix + '_complex_photon_contribution.txt'\n",
    "### hellman-Feynman file \n",
    "hf_fn = \"Data/\" + prefix + \"_hf.txt\"\n",
    "chf_fn = \"Data/\" + prefix + \"_chf.txt\"\n",
    "### Number of updates!\n",
    "N_time = 40#00000\n",
    "\n",
    "### N_thresh controls when you start taking the average position\n",
    "N_thresh = int( N_time / 4)\n",
    "\n",
    "\n",
    "\n",
    "options = {\n",
    "        'Number_of_Photons': 1,\n",
    "        'Complex_Frequency': True,\n",
    "        'Photon_Energys': [omc],\n",
    "        'Coupling_Strengths': [gc], \n",
    "        'Photon_Lifetimes': [gam_diss_np],\n",
    "        'Initial_Position': ri_init,\n",
    "        'Initial_Velocity': vi_init,\n",
    "        'Mass': 1009883,\n",
    "        ### temperature in a.u.\n",
    "        'Temperature': 0.00095,\n",
    "        ### friction in a.u.\n",
    "        'Friction': 0.000011,\n",
    "        ### specify initial state as a human would, not a computer...\n",
    "        ### i.e. 1 is the ground state... it will be shifted down by -1 so\n",
    "        ### that it makes sense to the python index convention\n",
    "        'Initial_Local_State': 3\n",
    "        \n",
    "        }\n",
    "\n",
    "### instantiate\n",
    "polt = polaritonic(options)\n",
    "\n",
    "\n",
    "### Write potential energy surface!\n",
    "polt.Write_PES(pes_fn, pc_fn)\n",
    "polt.Write_CPES(cpes_fn, cpc_fn)\n",
    "\n",
    "polt.Write_Forces(hf_fn)\n",
    "polt.Write_CForces(chf_fn)"
   ]
  },
  {
   "cell_type": "markdown",
   "metadata": {},
   "source": [
    "Even if $\\gamma = 0$, the fact that we use complex $\\omega$ type leads to some discrepencies in quantities, like the derivative coupling vectors.  See below for the plot of $d_{3,2}$ computed with $\\omega = 2.45 eV$\n",
    "and $\\omega = 2.45 + 0i eV$."
   ]
  },
  {
   "cell_type": "code",
   "execution_count": 62,
   "metadata": {},
   "outputs": [
    {
     "data": {
      "image/png": "[encoded data removed]",
      "text/plain": [
       "<Figure size 432x288 with 1 Axes>"
      ]
     },
     "metadata": {
      "needs_background": "light"
     },
     "output_type": "display_data"
    }
   ],
   "source": [
    "from matplotlib import pyplot as plt\n",
    "from matplotlib import animation\n",
    "from matplotlib import cm\n",
    "from matplotlib import rcParams\n",
    "rcParams['font.family'] = 'serif'\n",
    "rcParams['font.size'] = 12\n",
    "fp1 = \"Data/test_hf.txt\"\n",
    "fp2 = \"Data/test_chf.txt\"\n",
    "one = np.loadtxt(fp1)\n",
    "two = np.loadtxt(fp2,dtype=complex)\n",
    "\n",
    "### plot the derivative coupling ve\n",
    "plt.plot(one[:,0], one[:,3], 'red', label = \"2.45 eV\")\n",
    "plt.plot(two[:,0], np.real(two[:,3]), 'b--', label = \"2.45 + 0i eV\")\n",
    "plt.legend()\n",
    "plt.show()\n",
    "\n"
   ]
  },
  {
   "cell_type": "markdown",
   "metadata": {},
   "source": [
    "The problem seems to be that some (though not all) eigenvectors of $H_{Tot}$ differ by a sign when using complex $\\omega$. See below for a comparison between ${\\bf c}_2$ at $R = -1.5 a.u.$"
   ]
  },
  {
   "cell_type": "code",
   "execution_count": 55,
   "metadata": {},
   "outputs": [
    {
     "name": "stdout",
     "output_type": "stream",
     "text": [
      "[-0.        -0.j  0.98369585+0.j -0.17984014-0.j -0.        -0.j]\n",
      "[ 0.         -0.98369585  0.17984014  0.        ]\n"
     ]
    }
   ],
   "source": [
    "polt.R = -1.5\n",
    "polt.H_e()\n",
    "polt.Hc_total = np.copy(polt.H_electronic + polt.Hc_photonic + polt.H_interaction)\n",
    "polt.H_total = np.copy(polt.H_electronic + polt.H_photonic + polt.H_interaction)\n",
    "\n",
    "polt.Transform_L_to_P()\n",
    "polt.cTransform_L_to_P()\n",
    "\n",
    "print(polt.ctransformation_vecs_L_to_P[:,1])\n",
    "print(polt.transformation_vecs_L_to_P[:,1])"
   ]
  },
  {
   "cell_type": "markdown",
   "metadata": {},
   "source": [
    "The question is does this impact the dynamics?  Let's investigate how \n",
    "\\begin{equation}\n",
    "[{\\bf d},{\\bf D}]\n",
    "\\end{equation}\n",
    "differs using the derivative coupling vector and density matrix corresponding to real $\\omega$ as compared\n",
    "to complex $\\omega$."
   ]
  },
  {
   "cell_type": "code",
   "execution_count": 56,
   "metadata": {},
   "outputs": [
    {
     "name": "stdout",
     "output_type": "stream",
     "text": [
      "[dc, D]\n",
      "[[ 0.          0.          0.          0.        ]\n",
      " [ 0.         -0.74534222 -1.97031738  0.        ]\n",
      " [ 0.         -1.97031738  0.74534222  0.        ]\n",
      " [ 0.          0.          0.          0.        ]]\n",
      "[cdc,Dc]\n",
      "[[ 0.        +0.j  0.        +0.j  0.        +0.j  0.        +0.j]\n",
      " [ 0.        +0.j  0.74534222+0.j  1.97031738+0.j  0.        +0.j]\n",
      " [ 0.        +0.j  1.97031738+0.j -0.74534222+0.j  0.        +0.j]\n",
      " [ 0.        +0.j  0.        +0.j  0.        +0.j  0.        +0.j]]\n",
      "Real\n",
      "[[0.         0.         0.         0.        ]\n",
      " [0.         0.03234546 0.17691589 0.        ]\n",
      " [0.         0.17691589 0.96765454 0.        ]\n",
      " [0.         0.         0.         0.        ]]\n",
      "Complex\n",
      "[[ 0.        +0.j  0.        -0.j -0.        +0.j  0.        +0.j]\n",
      " [ 0.        +0.j  0.03233949+0.j  0.1769001 -0.j  0.        +0.j]\n",
      " [-0.        +0.j  0.1769001 +0.j  0.96766051+0.j -0.        +0.j]\n",
      " [ 0.        +0.j  0.        -0.j -0.        +0.j  0.        +0.j]]\n"
     ]
    }
   ],
   "source": [
    "Dc_33 = np.outer(polt.ctransformation_vecs_L_to_P[:,2], \n",
    "                             np.conj(polt.ctransformation_vecs_L_to_P[:,2]))\n",
    "\n",
    "Dc_22 = np.outer(polt.ctransformation_vecs_L_to_P[:,1], \n",
    "                             np.conj(polt.ctransformation_vecs_L_to_P[:,1]))\n",
    "\n",
    "D_33 = np.outer(polt.transformation_vecs_L_to_P[:,2], \n",
    "                             np.conj(polt.transformation_vecs_L_to_P[:,2]))\n",
    "\n",
    "D_22 = np.outer(polt.transformation_vecs_L_to_P[:,1], \n",
    "                             np.conj(polt.transformation_vecs_L_to_P[:,1]))\n",
    "\n",
    "\n",
    "sup = np.sqrt(1/2.) * polt.transformation_vecs_L_to_P[:,1] + np.sqrt(1j/2.) * polt.transformation_vecs_L_to_P[:,2]\n",
    "\n",
    "D_sup = np.outer(sup, np.conj(sup))\n",
    "\n",
    "\n",
    "### Real Hamiltonians first\n",
    "polt.R = polt.R + polt.dr\n",
    "polt.H_e()\n",
    "polt.H_total = np.copy(polt.H_electronic + polt.H_photonic + polt.H_interaction)\n",
    "Hf = np.copy(polt.H_total)\n",
    "### backward step\n",
    "polt.R = polt.R - 2*polt.dr\n",
    "polt.H_e()\n",
    "polt.H_total = np.copy(polt.H_electronic + polt.H_photonic + polt.H_interaction)\n",
    "Hb = np.copy(polt.H_total)\n",
    "### derivative\n",
    "Hprime = np.copy((Hf-Hb)/(2*polt.dr))\n",
    "polt.Derivative_Coupling(Hprime)\n",
    "\n",
    "### return to forward step\n",
    "polt.R = polt.R + 2*polt.dr\n",
    "polt.H_e()\n",
    "polt.Hc_total = np.copy(polt.H_electronic + polt.Hc_photonic + polt.H_interaction)\n",
    "Hf = np.copy(polt.Hc_total)\n",
    "### backward step\n",
    "polt.R = polt.R - 2*polt.dr\n",
    "polt.H_e()\n",
    "polt.Hc_total = np.copy(polt.H_electronic + polt.Hc_photonic + polt.H_interaction)\n",
    "Hb = np.copy(polt.Hc_total)\n",
    "### derivative\n",
    "Hcprime = np.copy((Hf-Hb)/(2*polt.dr))\n",
    "polt.cDerivative_Coupling(Hcprime)\n",
    "\n",
    "A = np.dot(polt.dc, D_33)\n",
    "B = np.dot(D_33, polt.dc)\n",
    "C = np.dot(polt.cdc, Dc_33)\n",
    "D = np.dot(Dc_33, polt.cdc)\n",
    "\n",
    "print(\"[dc, D]\")\n",
    "print(A-B)\n",
    "print(\"[cdc,Dc]\")\n",
    "print(C-D)\n",
    "DA = D_33 - polt.V * (A-B) * polt.dt\n",
    "DD = Dc_33 - polt.V *(C-D) * polt.dt\n",
    "\n",
    "\n",
    "print(\"Real\")\n",
    "print(DA)\n",
    "print(\"Complex\")\n",
    "print(DD)\n",
    "#print(\"Real dc\")\n",
    "#print(polt.dc)\n",
    "#print(\"complex dc\")\n",
    "#print(polt.cdc)"
   ]
  },
  {
   "cell_type": "code",
   "execution_count": 57,
   "metadata": {},
   "outputs": [
    {
     "data": {
      "image/png": "[encoded data removed]",
      "text/plain": [
       "<Figure size 432x288 with 1 Axes>"
      ]
     },
     "metadata": {
      "needs_background": "light"
     },
     "output_type": "display_data"
    },
    {
     "data": {
      "text/plain": [
       "'\\nfig, ax = plt.subplots()\\ncm = plt.cm.get_cmap(\\'rainbow\\')\\nim = ax.scatter(cpes[:,0], 27.211*np.abs(cpes[:,1]), c=cpc[:,1],cmap=cm, s=1) \\nim = ax.scatter(cpes[:,0], 27.211*np.abs(cpes[:,2]), c=cpc[:,2],cmap=cm, s=1)\\nim = ax.scatter(cpes[:,0], 27.211*np.abs(cpes[:,3]), c=cpc[:,3],cmap=cm, s=1)\\nim = ax.scatter(cpes[:,0], 27.211*np.abs(cpes[:,4]), c=cpc[:,4], cmap=cm, s=1)\\ncbar = fig.colorbar(im, ticks=[0.1, 0.5, 0.9])\\ncbar.ax.set_yticklabels([\\'excitonic\\', \\'polaritonic\\', \\'photonic\\'])\\nplt.xlim(-1.,1.)\\nplt.ylim(3.5,6.)\\nplt.xlabel(\"R (a.u.)\")\\nplt.ylabel(\"Energy (eV)\")\\n#plt.savefig(filename)\\nplt.show()\\n'"
      ]
     },
     "execution_count": 57,
     "metadata": {},
     "output_type": "execute_result"
    }
   ],
   "source": [
    "from matplotlib import pyplot as plt\n",
    "from matplotlib import animation\n",
    "from matplotlib import cm\n",
    "from matplotlib import rcParams\n",
    "rcParams['font.family'] = 'serif'\n",
    "rcParams['font.size'] = 12\n",
    "fp1 = \"Data/test_photon_contribution.txt\"\n",
    "fp2 = \"Data/test_complex_photon_contribution.txt\"\n",
    "fp3 = \"Data/test_pes.txt\"\n",
    "fp4 = \"Data/test_complex_pes.txt\"\n",
    "\n",
    "#fp3 = \"Data/ntest1_nuc_traj.txt\" \n",
    "\n",
    "\n",
    "#rt = np.zeros(80)\n",
    "#rho1 = np.zeros((80,4))\n",
    "#rho2 = np.zeros((80,4))\n",
    "pc = np.loadtxt(fp1)\n",
    "cpc = np.loadtxt(fp2)\n",
    "pes = np.loadtxt(fp3)\n",
    "cpes = np.loadtxt(fp4,dtype=complex)\n",
    "\n",
    "\n",
    "plt.plot(pes[:,0], pes[:,3], 'red', label='Real Eigs')\n",
    "plt.plot(cpes[:,0], np.real(cpes[:,3]), 'b--', label='Complex Eigs')\n",
    "plt.xlim(-1,-0.5)\n",
    "plt.legend()\n",
    "plt.show()\n",
    "\n",
    "'''\n",
    "fig, ax = plt.subplots()\n",
    "cm = plt.cm.get_cmap('rainbow')\n",
    "im = ax.scatter(cpes[:,0], 27.211*np.abs(cpes[:,1]), c=cpc[:,1],cmap=cm, s=1) \n",
    "im = ax.scatter(cpes[:,0], 27.211*np.abs(cpes[:,2]), c=cpc[:,2],cmap=cm, s=1)\n",
    "im = ax.scatter(cpes[:,0], 27.211*np.abs(cpes[:,3]), c=cpc[:,3],cmap=cm, s=1)\n",
    "im = ax.scatter(cpes[:,0], 27.211*np.abs(cpes[:,4]), c=cpc[:,4], cmap=cm, s=1)\n",
    "cbar = fig.colorbar(im, ticks=[0.1, 0.5, 0.9])\n",
    "cbar.ax.set_yticklabels(['excitonic', 'polaritonic', 'photonic'])\n",
    "plt.xlim(-1.,1.)\n",
    "plt.ylim(3.5,6.)\n",
    "plt.xlabel(\"R (a.u.)\")\n",
    "plt.ylabel(\"Energy (eV)\")\n",
    "#plt.savefig(filename)\n",
    "plt.show()\n",
    "'''\n"
   ]
  },
  {
   "cell_type": "code",
   "execution_count": 60,
   "metadata": {},
   "outputs": [
    {
     "data": {
      "image/png": "[encoded data removed]",
      "text/plain": [
       "<Figure size 432x288 with 1 Axes>"
      ]
     },
     "metadata": {
      "needs_background": "light"
     },
     "output_type": "display_data"
    }
   ],
   "source": [
    "from scipy import interpolate\n",
    "from scipy.interpolate import InterpolatedUnivariateSpline\n",
    "\n",
    "### form spline for ground-state surface\n",
    "Eg_spline = InterpolatedUnivariateSpline(cpes[:,0], np.real(cpes[:,2]), k=3)\n",
    "Fg_spline = Eg_spline.derivative()\n",
    "\n",
    "force = Fg_spline(one[:,0])\n",
    "\n",
    "\n",
    "plt.plot(one[:,0], one[:,1], 'red')\n",
    "plt.plot(two[:,0], two[:,1], 'b--')\n",
    "plt.plot(one[:,0], force, 'g--')\n",
    "plt.xlim(-1,-0.5)\n",
    "plt.show()\n"
   ]
  },
  {
   "cell_type": "code",
   "execution_count": null,
   "metadata": {},
   "outputs": [],
   "source": []
  }
 ],
 "metadata": {
  "kernelspec": {
   "display_name": "Python 3",
   "language": "python",
   "name": "python3"
  },
  "language_info": {
   "codemirror_mode": {
    "name": "ipython",
    "version": 3
   },
   "file_extension": ".py",
   "mimetype": "text/x-python",
   "name": "python",
   "nbconvert_exporter": "python",
   "pygments_lexer": "ipython3",
   "version": "3.6.10"
  }
 },
 "nbformat": 4,
 "nbformat_minor": 2
}
