{
 "cells": [
  {
   "cell_type": "markdown",
   "metadata": {},
   "source": [
    "Run this script to compute the Hellman-Feynman force on surface 3 and compare it to the \"full force\" on surface 3.\n",
    "Note the Hellman-Feynman force is defined as\n",
    "\\begin{equation}\n",
    "F_{HF} = -\\langle \\Phi_3 | \\frac{\\partial \\hat{H}}{\\partial R} | \\Phi_3 \\rangle\n",
    "\\end{equation}\n",
    "and the full force is defined as \n",
    "\\begin{equation}\n",
    "F = -\\frac{\\partial }{\\partial R}\\langle \\Phi_3 | \\hat{H} | \\Phi_3 \\rangle\n",
    "\\end{equation}.\n",
    "\n",
    "We find that the forces agree except near the regions of strong polaritonic coupling for LOSSY systems; they agree if cavity lifetime is infinite."
   ]
  },
  {
   "cell_type": "code",
   "execution_count": 3,
   "metadata": {},
   "outputs": [],
   "source": [
    "### Import all libraries and define various parameters here!\n",
    "import numpy as np\n",
    "from polaritonic import polaritonic\n",
    "from numpy import linalg as LA\n",
    "import math\n",
    "from matplotlib import pyplot as plt\n",
    "from matplotlib import cm\n",
    "from matplotlib import rcParams\n",
    "\n",
    "rcParams['font.family'] = 'serif'\n",
    "rcParams['font.size'] = 14"
   ]
  },
  {
   "cell_type": "markdown",
   "metadata": {},
   "source": [
    "The following cell will actually compute the derivative coupling and write it to a file.  You can change the $\\gamma$ parameter and the filename (via $prefix$) here!"
   ]
  },
  {
   "cell_type": "code",
   "execution_count": 19,
   "metadata": {},
   "outputs": [
    {
     "data": {
      "text/plain": [
       "1"
      ]
     },
     "execution_count": 19,
     "metadata": {},
     "output_type": "execute_result"
    }
   ],
   "source": [
    "ri_init = -0.66156\n",
    "vi_init = 3.3375e-5\n",
    "### lifetime\n",
    "gamp = 0.000\n",
    "gam_diss_np = gamp * 1e-3 / 27.211\n",
    "\n",
    "### photonic mode energy in eV\n",
    "omp = 2.45\n",
    "### convert to a.u.\n",
    "omc = omp/27.211\n",
    "### coupling strength in eV\n",
    "gp = 0.02\n",
    "gc = gp/27.211\n",
    "\n",
    "au_to_ps = 2.4188e-17 * 1e12\n",
    "\n",
    "### get prefix for data file names\n",
    "prefix = \"gam_0.0\"\n",
    "### filename to write nuclear trajectory to\n",
    "nuc_traj_fn = \"Data/\" + prefix + '_nuc_traj.txt'\n",
    "### filename to wrote PES to\n",
    "pes_fn = \"Data/\" + prefix + '_pes.txt'\n",
    "### filename to write electronic/polaritonic dynamics to\n",
    "ed_fn = \"Data/\" + prefix + '_electronic.txt'\n",
    "### filename to write photonic contributions of each state to\n",
    "pc_fn = \"Data/\" + prefix + '_photon_contribution.txt'\n",
    "\n",
    "### hellman-Feynman file \n",
    "hf_fn = \"Data/\" + prefix + \"_hf.txt\"\n",
    "\n",
    "\n",
    "options = {\n",
    "        'Number_of_Photons': 1,\n",
    "        'Complex_Frequency': True,\n",
    "        'Photon_Energys': [omc],\n",
    "        'Coupling_Strengths': [gc], \n",
    "        'Photon_Lifetimes': [gam_diss_np],\n",
    "        'Initial_Position': ri_init,\n",
    "        'Initial_Velocity': vi_init,\n",
    "        'Mass': 1009883,\n",
    "        ### temperature in a.u.\n",
    "        'Temperature': 0.00095,\n",
    "        ### friction in a.u.\n",
    "        'Friction': 0.000011,\n",
    "        ### specify initial state as a human would, not a computer...\n",
    "        ### i.e. 1 is the ground state... it will be shifted down by -1 so\n",
    "        ### that it makes sense to the python index convention\n",
    "        'Initial_Local_State': 3\n",
    "        \n",
    "        }\n",
    "\n",
    "### instantiate\n",
    "polt = polaritonic(options)\n",
    "### write Hellman-Feynman forces\n",
    "polt.Write_Forces(hf_fn)\n",
    "### write potential energy surfaces\n",
    "polt.Write_PES(pes_fn, pc_fn)"
   ]
  },
  {
   "cell_type": "markdown",
   "metadata": {},
   "source": [
    "### Read Hellman-Feynman forces directly and read PES data directly"
   ]
  },
  {
   "cell_type": "code",
   "execution_count": 20,
   "metadata": {},
   "outputs": [],
   "source": [
    "def dfdx(x, fx):\n",
    "    fp = np.zeros_like(fx)\n",
    "    dx = x[1]-x[0]\n",
    "    fp[0] = (fx[1]-fx[0])/dx\n",
    "    fp[len(x)-1] = (fx[len(x)-1] - fx[len(x)-2])/dx\n",
    "    for i in range(1,len(x)-1):\n",
    "        dy = fx[i+1]-fx[i-1]\n",
    "        fp[i] = dy/(2*dx)\n",
    "    return fp\n",
    "        "
   ]
  },
  {
   "cell_type": "code",
   "execution_count": 22,
   "metadata": {},
   "outputs": [
    {
     "data": {
      "image/png": "[encoded data removed]",
      "text/plain": [
       "<Figure size 432x288 with 1 Axes>"
      ]
     },
     "metadata": {
      "needs_background": "light"
     },
     "output_type": "display_data"
    }
   ],
   "source": [
    "\n",
    "### read text fie\n",
    "hf_data = np.loadtxt(hf_fn,dtype=complex)\n",
    "pes_data = np.loadtxt(pes_fn, dtype=complex)\n",
    "\n",
    "### get negative derivative of surface 3\n",
    "force = -1*dfdx(pes_data[:,0], pes_data[:,3])\n",
    "\n",
    "\n",
    "### plot Hellman-Feynman force against full force on surface 3\n",
    "plt.plot(hf_data[:,0], np.real(hf_data[:,2]), 'red', label='Hellman-Feynman')\n",
    "plt.plot(pes_data[:,0], np.real(force), 'b--', label='Full Force')\n",
    "\n",
    "plt.legend()\n",
    "plt.show()\n"
   ]
  },
  {
   "cell_type": "code",
   "execution_count": null,
   "metadata": {},
   "outputs": [],
   "source": []
  }
 ],
 "metadata": {
  "kernelspec": {
   "display_name": "Python 3",
   "language": "python",
   "name": "python3"
  },
  "language_info": {
   "codemirror_mode": {
    "name": "ipython",
    "version": 3
   },
   "file_extension": ".py",
   "mimetype": "text/x-python",
   "name": "python",
   "nbconvert_exporter": "python",
   "pygments_lexer": "ipython3",
   "version": "3.7.4"
  }
 },
 "nbformat": 4,
 "nbformat_minor": 2
}
