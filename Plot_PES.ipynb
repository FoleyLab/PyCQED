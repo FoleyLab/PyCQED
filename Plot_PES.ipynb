{
 "cells": [
  {
   "cell_type": "markdown",
   "metadata": {},
   "source": [
    "Run this script to compute or plot potential energy surface color-coded for photonic/excitonic contribution for different cavity parameters."
   ]
  },
  {
   "cell_type": "code",
   "execution_count": 1,
   "metadata": {},
   "outputs": [],
   "source": [
    "### Import all libraries and define various parameters here!\n",
    "import numpy as np\n",
    "from polaritonic import polaritonic\n",
    "from numpy import linalg as LA\n",
    "import math\n",
    "from matplotlib import pyplot as plt\n",
    "from matplotlib import cm\n",
    "from matplotlib import rcParams\n",
    "from scipy.interpolate import InterpolatedUnivariateSpline\n",
    "\n",
    "\n",
    "rcParams['font.family'] = 'serif'\n",
    "rcParams['font.size'] = 14"
   ]
  },
  {
   "cell_type": "markdown",
   "metadata": {},
   "source": [
    "The following cell will actually compute the derivative coupling and write it to a file.  \n",
    "You can change the $\\gamma$ parameter (via the `gamp=X` line) and the filename (via `prefix = Y` line) here!"
   ]
  },
  {
   "cell_type": "code",
   "execution_count": 2,
   "metadata": {},
   "outputs": [
    {
     "name": "stdout",
     "output_type": "stream",
     "text": [
      "scaling condition True\n",
      "complex condition True\n"
     ]
    },
    {
     "name": "stderr",
     "output_type": "stream",
     "text": [
      "/Users/jay/opt/anaconda3/lib/python3.7/site-packages/scipy/interpolate/fitpack2.py:605: ComplexWarning: Casting complex values to real discards the imaginary part\n",
      "  xe=bbox[1], s=0)\n"
     ]
    }
   ],
   "source": [
    "ri_init = -0.66156\n",
    "vi_init = 3.3375e-5\n",
    "'''NOTE 1:  when you change gamp, you change the lifetime in Hamiltonian!'''\n",
    "### lifetime\n",
    "gamp = 0.10\n",
    "gam_diss_np = gamp * 1e-3 / 27.211\n",
    "\n",
    "### photonic mode energy in eV\n",
    "omp = 2.45\n",
    "### convert to a.u.\n",
    "omc = omp/27.211\n",
    "### coupling strength in eV\n",
    "gp = 0.02\n",
    "gc = gp/27.211\n",
    "\n",
    "au_to_ps = 2.4188e-17 * 1e12\n",
    "\n",
    "### get prefix for data file names\n",
    "'''NOTE 2:  when you prefix, it will change the file name that the data is written to, and in the next cell that \n",
    "   plots the data, this file name will automatically be read from.  Make sure you change the prefix accordingly each \n",
    "   time you change the gamp parameter.'''\n",
    "prefix = \"gam_0.1\"\n",
    "### filename to wrote PES to\n",
    "pes_fn = \"Data/\" + prefix + '_pes.txt'\n",
    "### filename to write photonic contributions of each state to\n",
    "pc_fn = \"Data/\" + prefix + '_photon_contribution.txt'\n",
    "\n",
    "### hellman-Feynman file \n",
    "hf_fn = \"Data/\" + prefix + \"_hf.txt\"\n",
    "dc_fn = \"Data/\" + prefix + \"_dc.txt\"\n",
    "ip_fn = \"Data/\" + prefix + \"_ip.txt\"\n",
    "filename = prefix + \".eps\"\n",
    "\n",
    "options = {\n",
    "        'Number_of_Photons': 1,\n",
    "        'Complex_Frequency': True,\n",
    "        'Photon_Energys': [omc],\n",
    "        'Coupling_Strengths': [gc], \n",
    "        'Photon_Lifetimes': [gam_diss_np],\n",
    "        'Initial_Position': ri_init,\n",
    "        'Initial_Velocity': vi_init,\n",
    "        'Mass': 1009883,\n",
    "        ### temperature in a.u.\n",
    "        'Temperature': 0.00095,\n",
    "        ### friction in a.u.\n",
    "        'Friction': 0.000011,\n",
    "        ### specify initial state as a human would, not a computer...\n",
    "        ### i.e. 1 is the ground state... it will be shifted down by -1 so\n",
    "        ### that it makes sense to the python index convention\n",
    "        'Initial_Local_State': 3\n",
    "        \n",
    "        }\n",
    "\n",
    "### instantiate\n",
    "polt = polaritonic(options)\n",
    "### write forces and derivative coupling\n",
    "#polt.Transform_L_to_P()\n",
    "\n"
   ]
  },
  {
   "cell_type": "markdown",
   "metadata": {},
   "source": [
    "Initialize R, find local slope and curvature of each surface, then compute the global surfaces with \n",
    "correct ordering and write them to data files."
   ]
  },
  {
   "cell_type": "code",
   "execution_count": 3,
   "metadata": {},
   "outputs": [
    {
     "data": {
      "text/plain": [
       "1"
      ]
     },
     "execution_count": 3,
     "metadata": {},
     "output_type": "execute_result"
    }
   ],
   "source": [
    "### initialize near the lhs of the PESs\n",
    "polt.R = -1.25\n",
    "### get local slope curvature of each surface at R = -1.25\n",
    "polt.init_slope_and_curve()\n",
    "### write the potential energy surfaces, the derivative couplings, and the polaritonic inner-product and left/right\n",
    "### eigenvector data to files\n",
    "polt.Write_PES(pes_fn, pc_fn, dc_fn, ip_fn)"
   ]
  },
  {
   "cell_type": "markdown",
   "metadata": {},
   "source": [
    "The \"PES\" file contains the following (complex) data as columns (in order):\n",
    "\n",
    "$R, \\; \\epsilon_{g0}, \\: \\epsilon_{LP}, \\; \\epsilon_{UP}, \\; \\epsilon_{e1}$\n",
    "\n",
    "The \"derivative coupling\" file contains the following (complex) data as columns (in order):\n",
    "\n",
    "$R, \\; \\langle LP | \\frac{d}{dR} UP \\rangle, \\; \\langle UP | \\frac{d}{dR} LP \\rangle$\n",
    "\n",
    "The \"inner-product\" file contains the following data as columns (in order):\n",
    "\n",
    "$R, \\; \\langle rLP | rLP \\rangle,\\; \\langle rUP | rUP \\rangle, \\; \\langle rLP | rUP \\rangle, \n",
    "\\; \\langle rUP | rLP \\rangle,  \\; || \\: |lLP^* \\rangle-|rLP \\rangle \\: ||, \\;  || \\: |lUP^* \\rangle-|rUP \\rangle \\: ||$\n",
    "\n",
    "where $| rLP \\rangle$ denotes the right LP eigenstate and $| lLP \\rangle$ denotes the left LP eigenstate."
   ]
  },
  {
   "cell_type": "markdown",
   "metadata": {},
   "source": [
    "### Check the inner-product quantities first!"
   ]
  },
  {
   "cell_type": "code",
   "execution_count": null,
   "metadata": {},
   "outputs": [],
   "source": [
    "ip = np.loadtxt(ip_fn,dtype=complex)\n",
    "plt.plot(ip[:,0], np.abs(ip[:,1]), 'red', label=\"<LP|LP>\")\n",
    "plt.plot(ip[:,0], np.abs(ip[:,2]), 'b--', label=\"<UP|UP>\")\n",
    "plt.legend()\n",
    "plt.xlim(-1,1)\n",
    "plt.ylim(-1.5,1.5)\n",
    "plt.show()"
   ]
  },
  {
   "cell_type": "code",
   "execution_count": null,
   "metadata": {},
   "outputs": [],
   "source": [
    "plt.plot(ip[:,0], np.imag(ip[:,3]),'red', label=\"<LP|UP>\")\n",
    "plt.plot(ip[:,0], np.imag(ip[:,4]),'b--', label=\"<UP|LP>\")\n",
    "plt.legend()\n",
    "plt.xlim(-1,1)\n",
    "plt.ylim(-1.5,1.5)\n",
    "plt.show()"
   ]
  },
  {
   "cell_type": "code",
   "execution_count": null,
   "metadata": {},
   "outputs": [],
   "source": [
    "plt.plot(ip[:,0], np.abs(ip[:,5]), 'red', label=\"<lLP| - |rLP>\")\n",
    "plt.plot(ip[:,0], np.abs(ip[:,6]), 'b--', label=\"<lUP| - |rUP>\")\n",
    "plt.legend()\n",
    "plt.xlim(-1,1)\n",
    "plt.ylim(-1.5,1.5)\n",
    "plt.show()"
   ]
  },
  {
   "cell_type": "markdown",
   "metadata": {},
   "source": [
    "### Check the derivative coupling quantities next!"
   ]
  },
  {
   "cell_type": "code",
   "execution_count": 5,
   "metadata": {},
   "outputs": [
    {
     "data": {
      "image/png": "[encoded data removed]",
      "text/plain": [
       "<Figure size 432x288 with 1 Axes>"
      ]
     },
     "metadata": {
      "needs_background": "light"
     },
     "output_type": "display_data"
    },
    {
     "name": "stdout",
     "output_type": "stream",
     "text": [
      "1.7830688155086043e-05\n"
     ]
    }
   ],
   "source": [
    "dc = np.loadtxt(dc_fn,dtype=complex)\n",
    "spline_axis = np.real(dc[:,0])\n",
    "eval_spline = np.linspace(-1.5, 1.5, 50000)\n",
    "\n",
    "re_dc_23_spline = InterpolatedUnivariateSpline(spline_axis, np.real(dc[:,1]), k=3)\n",
    "im_dc_23_spline = InterpolatedUnivariateSpline(spline_axis, np.imag(dc[:,1]), k=3)\n",
    "\n",
    "re_dc_32_spline = InterpolatedUnivariateSpline(spline_axis, np.real(dc[:,2]), k=3)\n",
    "im_dc_32_spline = InterpolatedUnivariateSpline(spline_axis, np.imag(dc[:,2]), k=3)\n",
    "\n",
    "#plt.plot(spline_axis, im_dc_23_spline(spline_axis), 'red')\n",
    "plt.plot(eval_spline, re_dc_32_spline(eval_spline), 'b--')\n",
    "plt.show()\n",
    "polt.Initialize_Phase_Space()\n",
    "print(polt.V)\n",
    "\n"
   ]
  },
  {
   "cell_type": "markdown",
   "metadata": {},
   "source": [
    "Once the derivative coupling has been written to a file (or several have been written to a file), you can parse the files and plot them with the following cell!"
   ]
  },
  {
   "cell_type": "code",
   "execution_count": null,
   "metadata": {},
   "outputs": [],
   "source": [
    "pes_v = np.loadtxt(pes_fn, dtype=complex)\n",
    "spline_axis = np.real(pes_v[:,0])\n",
    "pc_v = np.loadtxt(pc_fn,dtype=complex)\n",
    " \n",
    "# g0\n",
    "re_g0_spline = InterpolatedUnivariateSpline(spline_axis, np.real(pes_v[:,1]), k=3)\n",
    "im_g0_spline = InterpolatedUnivariateSpline(spline_axis, np.imag(pes_v[:,1]), k=3)\n",
    "\n",
    "# LP\n",
    "re_LP_spline = InterpolatedUnivariateSpline(spline_axis, np.real(pes_v[:,2]), k=3)\n",
    "im_LP_spline = InterpolatedUnivariateSpline(spline_axis, np.imag(pes_v[:,2]), k=3)\n",
    "\n",
    "# UP\n",
    "re_UP_spline = InterpolatedUnivariateSpline(spline_axis, np.real(pes_v[:,3]), k=3)\n",
    "im_UP_spline = InterpolatedUnivariateSpline(spline_axis, np.imag(pes_v[:,3]), k=3)\n",
    "\n",
    "# e1\n",
    "re_e1_spline = InterpolatedUnivariateSpline(spline_axis, np.real(pes_v[:,4]), k=3)\n",
    "im_e1_spline = InterpolatedUnivariateSpline(spline_axis, np.imag(pes_v[:,4]), k=3)\n",
    "\n",
    "\n",
    "plt.plot(spline_axis, re_g0_spline(spline_axis), 'black')\n",
    "plt.plot(spline_axis, re_LP_spline(spline_axis), 'red')\n",
    "plt.plot(spline_axis, re_UP_spline(spline_axis), 'blue')\n",
    "plt.plot(spline_axis, re_e1_spline(spline_axis), 'purple')\n",
    "plt.show()\n",
    "\n",
    "#plt.plot(pes_v[:,0], 27.211*np.real(pes_v[:,2]), 'blue')\n",
    "#plt.plot(pes_v[:,0], np.imag(pes_v[:,2]), 'b*')\n",
    "#plt.plot(pes_v[:,0], np.imag(pes_v[:,3]), 'r*')\n",
    "#plt.plot(pes_v[:,0], 27.211*np.real(pes_v[:,3]), 'red')\n",
    "#plt.xlim(-0.7,-0.5)\n",
    "#plt.ylim(3.2, 4.02)\n",
    "#plt.show()\n",
    "\n"
   ]
  },
  {
   "cell_type": "code",
   "execution_count": null,
   "metadata": {},
   "outputs": [],
   "source": [
    "ci=0+1j\n",
    "polt.R = -0.60\n",
    "\n",
    "polt.H_polariton = np.zeros((4,4),dtype=complex)\n",
    "polt.dc[1,2] = re_dc_23_spline(polt.R) + im_dc_23_spline(polt.R)*ci\n",
    "polt.dc[2,1] = re_dc_32_spline(polt.R) + im_dc_32_spline(polt.R)*ci\n",
    "\n",
    "print(\"dc matrix\")\n",
    "print(polt.dc)\n",
    "\n",
    "polt.H_polariton[0,0] = re_g0_spline(polt.R)+ci*im_g0_spline(polt.R)\n",
    "polt.H_polariton[1,1] = re_LP_spline(polt.R)+ci*im_LP_spline(polt.R)\n",
    "polt.H_polariton[2,2] = re_UP_spline(polt.R)+ci*im_UP_spline(polt.R)\n",
    "polt.H_polariton[3,3] = re_e1_spline(polt.R)+ci*im_e1_spline(polt.R)\n",
    "\n",
    "print(\"ham matrix\")\n",
    "print(polt.H_polariton)\n",
    "\n",
    "print(\"initial wavefunction\")\n",
    "print(polt.C_polariton)\n",
    "\n",
    "for i in range(0,20):\n",
    "    polt.RK4_NH_SE()\n",
    "    print(\"new pop LP \",i)\n",
    "    print(np.conj(polt.C_polariton[1])*polt.C_polariton[1])\n",
    "    print(\"new pop UP \",i)\n",
    "    print(np.conj(polt.C_polariton[2])*polt.C_polariton[2])\n",
    "#polt.RK4_NH_SE()\n",
    "\n",
    "#print(\"new wavefunction 2\")\n",
    "#print(polt.C_polariton)\n",
    "#print(\"new pop LP 2\")\n",
    "#print(np.conj(polt.C_polariton[1])*polt.C_polariton[1])\n",
    "#print(\"new pop UP 2\")\n",
    "#print(np.conj(polt.C_polariton[2])*polt.C_polariton[2])\n",
    "#polt.C_polariton = np.copy(polt.C_polariton + dcdt * polt.dt)\n",
    "\n",
    "#dcdt = np.copy(-1*polt.V * np.dot(polt.dc, polt.C_polariton))\n",
    "#polt.C_polariton = np.copy(polt.C_polariton + dcdt * polt.dt)\n",
    "\n",
    "\n",
    "#print(polt.C_polariton)\n"
   ]
  },
  {
   "cell_type": "code",
   "execution_count": null,
   "metadata": {},
   "outputs": [],
   "source": [
    "# g0\n",
    "re_g0_force = re_g0_spline.derivative()\n",
    "im_g0_force = im_g0_spline.derivative()\n",
    "\n",
    "# LP\n",
    "re_LP_force = re_LP_spline.derivative()\n",
    "im_LP_force = im_LP_spline.derivative()\n",
    "\n",
    "# UP\n",
    "re_UP_force = re_UP_spline.derivative()\n",
    "im_UP_force = re_UP_spline.derivative()\n",
    "\n",
    "\n",
    "\n",
    "\n",
    "plt.plot(spline_axis, -1*im_g0_force(spline_axis), 'black')\n",
    "plt.plot(spline_axis, -1*im_LP_force(spline_axis), 'red')\n",
    "plt.plot(spline_axis, -1*im_UP_force(spline_axis), 'blue')\n",
    "#plt.plot(spline_axis, re_e1_spline(spline_axis), 'purple')\n",
    "plt.show()"
   ]
  },
  {
   "cell_type": "code",
   "execution_count": null,
   "metadata": {},
   "outputs": [],
   "source": []
  },
  {
   "cell_type": "code",
   "execution_count": null,
   "metadata": {},
   "outputs": [],
   "source": [
    "polt.Write_Forces(hf_fn)\n",
    "\n",
    "LP_force = re_LP_spline.derivative()\n",
    "### read text file\n",
    "dc = np.loadtxt(hf_fn,dtype=complex)\n",
    "\n",
    "### plot the data!\n",
    "plt.plot(dc[:,0], np.imag(dc[:,3]), 'red', label='$\\gamma$=100 meV')\n",
    "#plt.plot(dc[:,0], -1*LP_force(np.real(dc[:,0])), 'blue', label='$\\gamma$=100 meV')\n",
    "#plt.plot(dc[:,0], np.real(dc[:,1]), 'red', label='$\\gamma$=100 meV')\n",
    "\n",
    "#plt.plot(dc_1p0[:,0], np.imag(dc_1p0[:,3]), 'b--', label='$\\gamma$=1.0 meV')\n",
    "#plt.plot(dc_10p0[:,0], np.imag(dc_10p0[:,3]), 'g--', label='$\\gamma$=10.0 meV')\n",
    "plt.legend()\n",
    "#plt.xlim(-0.75,0.5)\n",
    "plt.xlabel(\"R (a.u.)\")\n",
    "plt.ylabel(\"Re $( d_{3,2} )$ (a.u.)\")\n",
    "plt.savefig(\"DC_abs.eps\")\n",
    "plt.show()"
   ]
  },
  {
   "cell_type": "code",
   "execution_count": null,
   "metadata": {},
   "outputs": [],
   "source": [
    "### read text file\n",
    "\n",
    "fig, ax = plt.subplots()\n",
    "cm = plt.cm.get_cmap('rainbow')\n",
    "im = ax.scatter(pes_v[:,0], 27.211*np.real(pes_v[:,1]), c='black',s=1) \n",
    "im = ax.scatter(pes_v[:,0], 27.211*np.real(pes_v[:,2]), c=np.abs(np.imag(pes_v[:,2])),cmap=cm, s=1) \n",
    "im = ax.scatter(pes_v[:,0], 27.211*np.real(pes_v[:,3]), c=np.abs(np.imag(pes_v[:,3])),cmap=cm, s=1)\n",
    "im = ax.scatter(pes_v[:,0], 27.211*np.real(pes_v[:,4]), c=pc_v[:,4],cmap=cm, s=1)\n",
    "cbar = fig.colorbar(im, ticks=[0, 0.5, 1 ])\n",
    "cbar.ax.set_yticklabels(['excitonic', 'polaritonic', 'photonic'])\n",
    "#plt.xlim(-0.625,-0.55)\n",
    "#plt.ylim(3.2, 4.02)\n",
    "plt.xlim(-0.7,-0.5)\n",
    "plt.ylim(3.2, 4.02)\n",
    "plt.xlabel(\"R (a.u.)\")\n",
    "plt.ylabel(\"Energy (eV)\")\n",
    "#plt.savefig(filename)\n",
    "plt.show()\n",
    "\n"
   ]
  },
  {
   "cell_type": "code",
   "execution_count": null,
   "metadata": {},
   "outputs": [],
   "source": [
    "### just playing around here\n",
    "polt.R = -0.5\n",
    "polt.H_e()\n",
    "polt.H_total = np.copy(polt.H_electronic + polt.H_photonic + polt.H_interaction)\n",
    "polt.Transform_L_to_P('True')\n",
    "print(polt.H_polariton[0,0])\n",
    "print(polt.H_polariton[1,1])\n",
    "print(polt.H_polariton[2,2])\n",
    "print(polt.H_polariton[3,3])"
   ]
  },
  {
   "cell_type": "code",
   "execution_count": null,
   "metadata": {},
   "outputs": [],
   "source": [
    "### read text file\n",
    "\n",
    "fig, ax = plt.subplots()\n",
    "cm = plt.cm.get_cmap('rainbow')\n",
    "im = ax.scatter(pes_v[:,0], 27.211*np.abs(pes_v[:,1]), c='black', s=4) \n",
    "im = ax.scatter(pes_v[:,0], 27.211*np.abs(pes_v[:,2]), c=pc_v[:,2],cmap=cm, s=4) \n",
    "im = ax.scatter(pes_v[:,0], 27.211*np.abs(pes_v[:,3]), c=pc_v[:,3],cmap=cm, s=4)\n",
    "#im = ax.scatter(pes_v[:,0], 27.211*np.abs(pes_v[:,4]), c=pc_v[:,4],cmap=cm, s=4)\n",
    "cbar = fig.colorbar(im, ticks=[0.1, 0.5, 0.9])\n",
    "cbar.ax.set_yticklabels(['excitonic', 'polaritonic', 'photonic'])\n",
    "plt.xlim(-1.0,1.0)\n",
    "plt.ylim(-0.1,5.0)\n",
    "plt.xlabel(\"$\\Theta$ (a.u.)\")\n",
    "plt.ylabel(\"Energy (eV)\")\n",
    "plt.savefig(filename)\n",
    "plt.show()\n"
   ]
  },
  {
   "cell_type": "code",
   "execution_count": null,
   "metadata": {},
   "outputs": [],
   "source": [
    "fig, ax = plt.subplots()\n",
    "#cm = plt.cm.get_cmap('rainbow')\n",
    "im = ax.scatter(pes_v[:,0], 27.211*np.abs(pes_v[:,1]), c='black', s=4, label='|g>') \n",
    "im = ax.scatter(pes_v[:,0], 27.211*np.abs(pes_v[:,3]), c='red',s=4, label='|e>') \n",
    "#im = ax.scatter(pes_v[:,0], 27.211*np.abs(pes_v[:,3]), c=pc_v[:,3],cmap=cm, s=4)\n",
    "#im = ax.scatter(pes_v[:,0], 27.211*np.abs(pes_v[:,4]), c=pc_v[:,4],cmap=cm, s=4)\n",
    "cbar = fig.colorbar(im, ticks=[0.1, 0.5, 0.9])\n",
    "cbar.ax.set_yticklabels(['excitonic', 'polaritonic', 'photonic'])\n",
    "plt.xlim(-1.0,1.0)\n",
    "plt.ylim(-0.1,5.0)\n",
    "#plt.legend()\n",
    "plt.xlabel(\"R (a.u.)\")\n",
    "plt.ylabel(\"Energy (eV)\")\n",
    "plt.savefig(filename)\n",
    "plt.show()"
   ]
  },
  {
   "cell_type": "code",
   "execution_count": null,
   "metadata": {},
   "outputs": [],
   "source": []
  }
 ],
 "metadata": {
  "kernelspec": {
   "display_name": "Python 3",
   "language": "python",
   "name": "python3"
  },
  "language_info": {
   "codemirror_mode": {
    "name": "ipython",
    "version": 3
   },
   "file_extension": ".py",
   "mimetype": "text/x-python",
   "name": "python",
   "nbconvert_exporter": "python",
   "pygments_lexer": "ipython3",
   "version": "3.7.4"
  }
 },
 "nbformat": 4,
 "nbformat_minor": 2
}
